{
 "cells": [
  {
   "cell_type": "markdown",
   "metadata": {},
   "source": [
    "# Dataset\n",
    "https://www.kaggle.com/datasnaek/chess"
   ]
  },
  {
   "cell_type": "markdown",
   "metadata": {},
   "source": [
    "Dataset dostopen na linku: https://we.tl/t-HV2GgeaiFa"
   ]
  },
  {
   "cell_type": "code",
   "execution_count": 34,
   "metadata": {},
   "outputs": [],
   "source": [
    "import pandas as pd\n",
    "import numpy as np"
   ]
  },
  {
   "cell_type": "markdown",
   "metadata": {},
   "source": [
    "# White vs Black\n",
    "\n",
    "Iz našega dataseta bomo potegnili informacijo ali se bolj splača biti White ali Black igralec.\n",
    "\n",
    "Chunksize naj bo 250.\n",
    "\n",
    "Stolpec katerega potrebujemo je samo `winner`."
   ]
  },
  {
   "cell_type": "code",
   "execution_count": 35,
   "metadata": {},
   "outputs": [
    {
     "data": {
      "text/plain": [
       "<pandas.io.parsers.TextFileReader at 0x7fca33bf69e8>"
      ]
     },
     "execution_count": 35,
     "metadata": {},
     "output_type": "execute_result"
    }
   ],
   "source": [
    "#poglavje 5 od -> Processing Dataframes in Chunks\n",
    "chunks = pd.read_csv('data/games.csv', usecols=['winner'], chunksize=250)\n",
    "chunks"
   ]
  },
  {
   "cell_type": "code",
   "execution_count": 36,
   "metadata": {},
   "outputs": [
    {
     "name": "stdout",
     "output_type": "stream",
     "text": [
      "Beli ima več zmag\n"
     ]
    }
   ],
   "source": [
    "white_fig=0\n",
    "black_fig=0\n",
    "draw =0\n",
    "\n",
    "for chunk in chunks:\n",
    "    white_fig = white_fig + chunk['winner'].value_counts()['white']\n",
    "    black_fig = black_fig + chunk['winner'].value_counts()['black']\n",
    "    draw = draw + chunk['winner'].value_counts()['draw']\n",
    "\n",
    "if white_fig > black_fig:\n",
    "    print('Beli ima več zmag')\n",
    "elif white_fig < black_fig:\n",
    "    print('Črni ima več zmag')\n",
    "else:\n",
    "    ('Izenačeno')"
   ]
  },
  {
   "cell_type": "code",
   "execution_count": null,
   "metadata": {},
   "outputs": [],
   "source": []
  },
  {
   "cell_type": "code",
   "execution_count": null,
   "metadata": {},
   "outputs": [],
   "source": []
  },
  {
   "cell_type": "code",
   "execution_count": null,
   "metadata": {},
   "outputs": [],
   "source": []
  },
  {
   "cell_type": "markdown",
   "metadata": {},
   "source": [
    "# Ker opening_move je najboljši\n",
    "\n",
    "Iz dataseta bomo potegnili informacijo katera začetna poteza je najboljša, če smo White igralec.\n",
    "\n",
    "V `winner` stolpcu najdemo vrstice v katerih je bil White zmagovalni igralec. Nato iz teh vrstic najdemo začetno potezo (`opening_name`). In na koncu najdemo najbolj igrano začetno potezo."
   ]
  },
  {
   "cell_type": "code",
   "execution_count": 40,
   "metadata": {},
   "outputs": [],
   "source": [
    "#poglavje 5 od -> Processing Dataframes in Chunks\n",
    "chunks=pd.read_csv('data/games.csv',chunksize=250)"
   ]
  },
  {
   "cell_type": "code",
   "execution_count": 41,
   "metadata": {},
   "outputs": [],
   "source": [
    "data=[]\n",
    "for chunk in chunks:\n",
    "    white=chunk[chunk['winner']=='white']\n",
    "    white_opening=white['opening_name']\n",
    "    data.append(white_opening.value_counts())\n",
    "df=pd.concat(data)"
   ]
  },
  {
   "cell_type": "code",
   "execution_count": 42,
   "metadata": {},
   "outputs": [
    {
     "data": {
      "text/plain": [
       "Scandinavian Defense: Mieses-Kotroc Variation    164\n",
       "Name: opening_name, dtype: int64"
      ]
     },
     "execution_count": 42,
     "metadata": {},
     "output_type": "execute_result"
    }
   ],
   "source": [
    "df.groupby(level=0).sum().sort_values(ascending=False).head(1)"
   ]
  },
  {
   "cell_type": "code",
   "execution_count": null,
   "metadata": {},
   "outputs": [],
   "source": []
  },
  {
   "cell_type": "markdown",
   "metadata": {},
   "source": [
    "# Best player\n",
    "\n",
    "Po bomo kateri igralec je bil največkrat zmagovalni.\n"
   ]
  },
  {
   "cell_type": "code",
   "execution_count": 44,
   "metadata": {},
   "outputs": [],
   "source": [
    "#poglavje 5 od -> Processing Dataframes in Chunks\n",
    "chunks=pd.read_csv('data/games.csv',chunksize=250)"
   ]
  },
  {
   "cell_type": "code",
   "execution_count": 45,
   "metadata": {},
   "outputs": [],
   "source": [
    "data=[]\n",
    "for chunk in chunks:\n",
    "    white_black = chunk[chunk['winner'] != 'draw']\n",
    "    winner = np.where(white_black['winner']=='white', white_black['white_id'], white_black['black_id'])\n",
    "    winner = pd.DataFrame(winner,columns=['name'])\n",
    "    data.append(winner['name'].value_counts())\n",
    "df=pd.concat(data)"
   ]
  },
  {
   "cell_type": "code",
   "execution_count": 46,
   "metadata": {},
   "outputs": [
    {
     "data": {
      "text/plain": [
       "taranga    72\n",
       "Name: name, dtype: int64"
      ]
     },
     "execution_count": 46,
     "metadata": {},
     "output_type": "execute_result"
    }
   ],
   "source": [
    "df.groupby(level=0).sum().sort_values(ascending=False).head(1)"
   ]
  },
  {
   "cell_type": "code",
   "execution_count": null,
   "metadata": {},
   "outputs": [],
   "source": []
  }
 ],
 "metadata": {
  "kernelspec": {
   "display_name": "Python 3",
   "language": "python",
   "name": "python3"
  },
  "language_info": {
   "codemirror_mode": {
    "name": "ipython",
    "version": 3
   },
   "file_extension": ".py",
   "mimetype": "text/x-python",
   "name": "python",
   "nbconvert_exporter": "python",
   "pygments_lexer": "ipython3",
   "version": "3.7.3"
  },
  "toc": {
   "base_numbering": 1,
   "nav_menu": {},
   "number_sections": true,
   "sideBar": true,
   "skip_h1_title": false,
   "title_cell": "Table of Contents",
   "title_sidebar": "Contents",
   "toc_cell": false,
   "toc_position": {},
   "toc_section_display": true,
   "toc_window_display": false
  }
 },
 "nbformat": 4,
 "nbformat_minor": 2
}
