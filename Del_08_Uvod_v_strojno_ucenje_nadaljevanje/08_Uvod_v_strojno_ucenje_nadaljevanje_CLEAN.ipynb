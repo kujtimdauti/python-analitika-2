{
 "cells": [
  {
   "cell_type": "markdown",
   "metadata": {},
   "source": [
    "# Del 8: Uvod v strojno učenje - Nadaljevanje"
   ]
  },
  {
   "cell_type": "code",
   "execution_count": 1,
   "metadata": {},
   "outputs": [],
   "source": [
    "import pandas as pd\n",
    "import numpy as np"
   ]
  },
  {
   "cell_type": "markdown",
   "metadata": {},
   "source": [
    "## Instance Based Learning Vs. Model Based Learning\n",
    "\n"
   ]
  },
  {
   "cell_type": "markdown",
   "metadata": {},
   "source": [
    "\n",
    "<p><img alt=\"KNN Complexity\" src=\"images/knn_complexity.svg\"></p>\n",
    "\n",
    "<p><img alt=\"Model Based Learning\" src=\"images/regression_complexity.png\"></p>\n"
   ]
  },
  {
   "cell_type": "markdown",
   "metadata": {},
   "source": [
    "## Linear Regression"
   ]
  },
  {
   "cell_type": "markdown",
   "metadata": {},
   "source": [
    "### Introduction To The Data"
   ]
  },
  {
   "cell_type": "markdown",
   "metadata": {},
   "source": [
    "\n",
    "<p>Here are some of the columns:</p>\n",
    "<ul>\n",
    "<li><code>Lot Area</code>: Lot size in square feet.</li>\n",
    "<li><code>Overall Qual</code>: Rates the overall material and finish of the house.</li>\n",
    "<li><code>Overall Cond</code>: Rates the overall condition of the house.</li>\n",
    "<li><code>Year Built</code>: Original construction date.</li>\n",
    "<li><code>Low Qual Fin SF</code>: Low quality finished square feet (all floors).</li>\n",
    "<li><code>Full Bath</code>: Full bathrooms above grade.</li>\n",
    "<li><code>Fireplaces</code>: Number of fireplaces.</li>\n",
    "</ul>\n"
   ]
  },
  {
   "cell_type": "code",
   "execution_count": 2,
   "metadata": {},
   "outputs": [
    {
     "name": "stdout",
     "output_type": "stream",
     "text": [
      "<class 'pandas.core.frame.DataFrame'>\n",
      "RangeIndex: 1460 entries, 0 to 1459\n",
      "Data columns (total 82 columns):\n",
      "Order              1460 non-null int64\n",
      "PID                1460 non-null int64\n",
      "MS SubClass        1460 non-null int64\n",
      "MS Zoning          1460 non-null object\n",
      "Lot Frontage       1211 non-null float64\n",
      "Lot Area           1460 non-null int64\n",
      "Street             1460 non-null object\n",
      "Alley              109 non-null object\n",
      "Lot Shape          1460 non-null object\n",
      "Land Contour       1460 non-null object\n",
      "Utilities          1460 non-null object\n",
      "Lot Config         1460 non-null object\n",
      "Land Slope         1460 non-null object\n",
      "Neighborhood       1460 non-null object\n",
      "Condition 1        1460 non-null object\n",
      "Condition 2        1460 non-null object\n",
      "Bldg Type          1460 non-null object\n",
      "House Style        1460 non-null object\n",
      "Overall Qual       1460 non-null int64\n",
      "Overall Cond       1460 non-null int64\n",
      "Year Built         1460 non-null int64\n",
      "Year Remod/Add     1460 non-null int64\n",
      "Roof Style         1460 non-null object\n",
      "Roof Matl          1460 non-null object\n",
      "Exterior 1st       1460 non-null object\n",
      "Exterior 2nd       1460 non-null object\n",
      "Mas Vnr Type       1449 non-null object\n",
      "Mas Vnr Area       1449 non-null float64\n",
      "Exter Qual         1460 non-null object\n",
      "Exter Cond         1460 non-null object\n",
      "Foundation         1460 non-null object\n",
      "Bsmt Qual          1420 non-null object\n",
      "Bsmt Cond          1420 non-null object\n",
      "Bsmt Exposure      1419 non-null object\n",
      "BsmtFin Type 1     1420 non-null object\n",
      "BsmtFin SF 1       1459 non-null float64\n",
      "BsmtFin Type 2     1419 non-null object\n",
      "BsmtFin SF 2       1459 non-null float64\n",
      "Bsmt Unf SF        1459 non-null float64\n",
      "Total Bsmt SF      1459 non-null float64\n",
      "Heating            1460 non-null object\n",
      "Heating QC         1460 non-null object\n",
      "Central Air        1460 non-null object\n",
      "Electrical         1460 non-null object\n",
      "1st Flr SF         1460 non-null int64\n",
      "2nd Flr SF         1460 non-null int64\n",
      "Low Qual Fin SF    1460 non-null int64\n",
      "Gr Liv Area        1460 non-null int64\n",
      "Bsmt Full Bath     1459 non-null float64\n",
      "Bsmt Half Bath     1459 non-null float64\n",
      "Full Bath          1460 non-null int64\n",
      "Half Bath          1460 non-null int64\n",
      "Bedroom AbvGr      1460 non-null int64\n",
      "Kitchen AbvGr      1460 non-null int64\n",
      "Kitchen Qual       1460 non-null object\n",
      "TotRms AbvGrd      1460 non-null int64\n",
      "Functional         1460 non-null object\n",
      "Fireplaces         1460 non-null int64\n",
      "Fireplace Qu       743 non-null object\n",
      "Garage Type        1386 non-null object\n",
      "Garage Yr Blt      1385 non-null float64\n",
      "Garage Finish      1385 non-null object\n",
      "Garage Cars        1460 non-null float64\n",
      "Garage Area        1460 non-null float64\n",
      "Garage Qual        1385 non-null object\n",
      "Garage Cond        1385 non-null object\n",
      "Paved Drive        1460 non-null object\n",
      "Wood Deck SF       1460 non-null int64\n",
      "Open Porch SF      1460 non-null int64\n",
      "Enclosed Porch     1460 non-null int64\n",
      "3Ssn Porch         1460 non-null int64\n",
      "Screen Porch       1460 non-null int64\n",
      "Pool Area          1460 non-null int64\n",
      "Pool QC            1 non-null object\n",
      "Fence              297 non-null object\n",
      "Misc Feature       60 non-null object\n",
      "Misc Val           1460 non-null int64\n",
      "Mo Sold            1460 non-null int64\n",
      "Yr Sold            1460 non-null int64\n",
      "Sale Type          1460 non-null object\n",
      "Sale Condition     1460 non-null object\n",
      "SalePrice          1460 non-null int64\n",
      "dtypes: float64(11), int64(28), object(43)\n",
      "memory usage: 935.4+ KB\n"
     ]
    }
   ],
   "source": [
    "import pandas as pd\n",
    "data = pd.read_csv('data/AmesHousing.txt', delimiter=\"\\t\")\n",
    "train = data[0:1460]\n",
    "test = data[1460:]\n",
    "\n",
    "train.info()\n",
    "\n",
    "#imamo hiše, napovedujemo ceno le teh"
   ]
  },
  {
   "cell_type": "markdown",
   "metadata": {},
   "source": [
    "### Simple Linear Regression"
   ]
  },
  {
   "cell_type": "markdown",
   "metadata": {},
   "source": [
    "\n",
    "<p><img alt=\"Simple Linear Regression\" src=\"images/simple_linear_regression.svg\"></p>\n"
   ]
  },
  {
   "cell_type": "code",
   "execution_count": 4,
   "metadata": {},
   "outputs": [
    {
     "data": {
      "image/png": "[encoded data removed]",
      "text/plain": [
       "<Figure size 504x1080 with 3 Axes>"
      ]
     },
     "metadata": {
      "needs_background": "light"
     },
     "output_type": "display_data"
    }
   ],
   "source": [
    "import matplotlib.pyplot as plt\n",
    "# For prettier plots.\n",
    "import seaborn\n",
    "fig = plt.figure(figsize=(7,15))\n",
    "\n",
    "ax1 = fig.add_subplot(3, 1, 1)\n",
    "ax2 = fig.add_subplot(3, 1, 2)\n",
    "ax3 = fig.add_subplot(3, 1, 3)\n",
    "\n",
    "train.plot(x=\"Garage Area\", y=\"SalePrice\", ax=ax1, kind=\"scatter\")\n",
    "train.plot(x=\"Gr Liv Area\", y=\"SalePrice\", ax=ax2, kind=\"scatter\")\n",
    "train.plot(x=\"Overall Cond\", y=\"SalePrice\", ax=ax3, kind=\"scatter\")\n",
    "\n",
    "plt.show()"
   ]
  },
  {
   "cell_type": "markdown",
   "metadata": {},
   "source": [
    "### Using Scikit-Learn To Train And Predict"
   ]
  },
  {
   "cell_type": "code",
   "execution_count": 6,
   "metadata": {},
   "outputs": [
    {
     "name": "stdout",
     "output_type": "stream",
     "text": [
      "[116.86624683]\n",
      "5366.821710056014\n"
     ]
    }
   ],
   "source": [
    "from sklearn.linear_model import LinearRegression\n",
    "#pooklicemo model in damo prazen objekt\n",
    "lr=LinearRegression()\n",
    "lr.fit(train[['Gr Liv Area']], train['SalePrice'])\n",
    "print(lr.coef_)\n",
    "print(lr.intercept_)\n",
    "a0 = lr.intercept_\n",
    "a1 = lr.coef_\n",
    "#za vsak dodaten kvadrat bo cena 116€ več.\n",
    "#karje \"n\" je pa začetna vrednost"
   ]
  },
  {
   "cell_type": "code",
   "execution_count": 8,
   "metadata": {},
   "outputs": [],
   "source": [
    "import numpy as np\n",
    "lr=LinearRegression()\n",
    "lr.fit(train[['Gr Liv Area']], train['SalePrice'])\n",
    "from sklearn.metrics import mean_squared_error\n",
    "\n",
    "train_predictions=lr.predict(train[['Gr Liv Area']])\n",
    "test_predictions=lr.predict(test[['Gr Liv Area']])\n"
   ]
  },
  {
   "cell_type": "code",
   "execution_count": null,
   "metadata": {},
   "outputs": [],
   "source": []
  },
  {
   "cell_type": "code",
   "execution_count": 9,
   "metadata": {},
   "outputs": [],
   "source": [
    "train_mse = mean_squared_error(train_predictions, train['SalePrice'])\n",
    "test_mse = mean_squared_error(test_predictions, test['SalePrice'])"
   ]
  },
  {
   "cell_type": "code",
   "execution_count": 10,
   "metadata": {},
   "outputs": [
    {
     "name": "stdout",
     "output_type": "stream",
     "text": [
      "56034.3620014128\n",
      "57088.25161263909\n"
     ]
    }
   ],
   "source": [
    "train_rmse = np.sqrt(train_mse)\n",
    "test_rmse = np.sqrt(test_mse)\n",
    "\n",
    "print(train_rmse)\n",
    "print(test_rmse)"
   ]
  },
  {
   "cell_type": "markdown",
   "metadata": {},
   "source": [
    "### Multiple Linear Regression"
   ]
  },
  {
   "cell_type": "code",
   "execution_count": 11,
   "metadata": {},
   "outputs": [],
   "source": [
    "# v primeru ko je več atributov\n",
    "\n",
    "cols = ['Overall Cond', 'Gr Liv Area']\n",
    "\n",
    "lr = LinearRegression()\n",
    "lr.fit(train[cols],train['SalePrice'])\n",
    "\n",
    "\n",
    "train_predictions=lr.predict(train[cols])\n",
    "test_predictions=lr.predict(test[cols])\n",
    "\n",
    "\n"
   ]
  },
  {
   "cell_type": "code",
   "execution_count": 12,
   "metadata": {},
   "outputs": [],
   "source": [
    "train_rmse_2 = np.sqrt(mean_squared_error(train_predictions, train['SalePrice']))\n",
    "test_rmse_2 = np.sqrt(mean_squared_error(test_predictions, test['SalePrice']))"
   ]
  },
  {
   "cell_type": "code",
   "execution_count": 13,
   "metadata": {},
   "outputs": [
    {
     "name": "stdout",
     "output_type": "stream",
     "text": [
      "56032.39801525867\n",
      "57066.90779448559\n"
     ]
    }
   ],
   "source": [
    "print(train_rmse_2)\n",
    "print(test_rmse_2)"
   ]
  },
  {
   "cell_type": "markdown",
   "metadata": {},
   "source": [
    "### Missing Values"
   ]
  },
  {
   "cell_type": "code",
   "execution_count": 14,
   "metadata": {},
   "outputs": [],
   "source": [
    "data = pd.read_csv('data/AmesHousing.txt', delimiter=\"\\t\")\n",
    "train = data[0:1460]\n",
    "test = data[1460:]"
   ]
  },
  {
   "cell_type": "code",
   "execution_count": 15,
   "metadata": {},
   "outputs": [
    {
     "name": "stdout",
     "output_type": "stream",
     "text": [
      "Order                0\n",
      "MS SubClass          0\n",
      "Lot Frontage       249\n",
      "Lot Area             0\n",
      "Overall Qual         0\n",
      "Overall Cond         0\n",
      "Mas Vnr Area        11\n",
      "BsmtFin SF 1         1\n",
      "BsmtFin SF 2         1\n",
      "Bsmt Unf SF          1\n",
      "Total Bsmt SF        1\n",
      "1st Flr SF           0\n",
      "2nd Flr SF           0\n",
      "Low Qual Fin SF      0\n",
      "Gr Liv Area          0\n",
      "Bsmt Full Bath       1\n",
      "Bsmt Half Bath       1\n",
      "Full Bath            0\n",
      "Half Bath            0\n",
      "Bedroom AbvGr        0\n",
      "Kitchen AbvGr        0\n",
      "TotRms AbvGrd        0\n",
      "Fireplaces           0\n",
      "Garage Cars          0\n",
      "Garage Area          0\n",
      "Wood Deck SF         0\n",
      "Open Porch SF        0\n",
      "Enclosed Porch       0\n",
      "3Ssn Porch           0\n",
      "Screen Porch         0\n",
      "Pool Area            0\n",
      "Misc Val             0\n",
      "SalePrice            0\n",
      "dtype: int64\n"
     ]
    }
   ],
   "source": [
    "numerical_train = train.select_dtypes(include=['int', 'float'])\n",
    "numerical_train = numerical_train.drop(['PID', 'Year Built', 'Year Remod/Add', 'Garage Yr Blt', 'Mo Sold', 'Yr Sold'], axis=1)\n",
    "null_series = numerical_train.isnull().sum()\n",
    "print(null_series)"
   ]
  },
  {
   "cell_type": "code",
   "execution_count": 19,
   "metadata": {},
   "outputs": [],
   "source": [
    "full_cols_series=null_series[null_series==0]"
   ]
  },
  {
   "cell_type": "markdown",
   "metadata": {},
   "source": [
    "### Correlating Feature Columns With Target Column"
   ]
  },
  {
   "cell_type": "code",
   "execution_count": 20,
   "metadata": {},
   "outputs": [
    {
     "data": {
      "text/plain": [
       "25"
      ]
     },
     "execution_count": 20,
     "metadata": {},
     "output_type": "execute_result"
    }
   ],
   "source": [
    "len(full_cols_series)"
   ]
  },
  {
   "cell_type": "code",
   "execution_count": 21,
   "metadata": {},
   "outputs": [],
   "source": [
    "#v train dam samo stolpce iz full colsa\n",
    "train_subset=train[ful_cols_series.index]"
   ]
  },
  {
   "cell_type": "code",
   "execution_count": 22,
   "metadata": {},
   "outputs": [],
   "source": [
    "corrmat=train_subset.corr() #računa koleracije"
   ]
  },
  {
   "cell_type": "code",
   "execution_count": 25,
   "metadata": {},
   "outputs": [],
   "source": [
    "sorted_corrs=corrmat['SalePrice'].abs().sort_values()"
   ]
  },
  {
   "cell_type": "code",
   "execution_count": 26,
   "metadata": {},
   "outputs": [
    {
     "data": {
      "text/plain": [
       "Misc Val           0.009903\n",
       "3Ssn Porch         0.038699\n",
       "Low Qual Fin SF    0.060352\n",
       "Order              0.068181\n",
       "MS SubClass        0.088504\n",
       "Overall Cond       0.099395\n",
       "Screen Porch       0.100121\n",
       "Bedroom AbvGr      0.106941\n",
       "Kitchen AbvGr      0.130843\n",
       "Pool Area          0.145474\n",
       "Enclosed Porch     0.165873\n",
       "2nd Flr SF         0.202352\n",
       "Half Bath          0.272870\n",
       "Lot Area           0.274730\n",
       "Wood Deck SF       0.319104\n",
       "Open Porch SF      0.344383\n",
       "TotRms AbvGrd      0.483701\n",
       "Fireplaces         0.485683\n",
       "Full Bath          0.518194\n",
       "1st Flr SF         0.657119\n",
       "Garage Area        0.662397\n",
       "Garage Cars        0.663485\n",
       "Gr Liv Area        0.698990\n",
       "Overall Qual       0.804562\n",
       "SalePrice          1.000000\n",
       "Name: SalePrice, dtype: float64"
      ]
     },
     "execution_count": 26,
     "metadata": {},
     "output_type": "execute_result"
    }
   ],
   "source": [
    "sorted_corrs"
   ]
  },
  {
   "cell_type": "markdown",
   "metadata": {},
   "source": [
    "### Correlation Matrix Heatmap"
   ]
  },
  {
   "cell_type": "code",
   "execution_count": 27,
   "metadata": {},
   "outputs": [
    {
     "data": {
      "image/png": "[encoded data removed]",
      "text/plain": [
       "<Figure size 432x288 with 2 Axes>"
      ]
     },
     "metadata": {
      "needs_background": "light"
     },
     "output_type": "display_data"
    }
   ],
   "source": [
    "import seaborn as sns\n",
    "import matplotlib.pyplot as plt\n",
    "strong_corrs=sorted_corrs[sorted_corrs>0.3]\n",
    "corrmat=train_subset[strong_corrs.index].corr()\n",
    "sns.heatmap(corrmat)\n",
    "\n",
    "plt.show()"
   ]
  },
  {
   "cell_type": "markdown",
   "metadata": {},
   "source": [
    "### Train And Test Model"
   ]
  },
  {
   "cell_type": "code",
   "execution_count": 28,
   "metadata": {},
   "outputs": [
    {
     "name": "stdout",
     "output_type": "stream",
     "text": [
      "<class 'pandas.core.frame.DataFrame'>\n",
      "RangeIndex: 1470 entries, 1460 to 2929\n",
      "Data columns (total 9 columns):\n",
      "Wood Deck SF     1470 non-null int64\n",
      "Open Porch SF    1470 non-null int64\n",
      "Fireplaces       1470 non-null int64\n",
      "Full Bath        1470 non-null int64\n",
      "1st Flr SF       1470 non-null int64\n",
      "Garage Area      1469 non-null float64\n",
      "Gr Liv Area      1470 non-null int64\n",
      "Overall Qual     1470 non-null int64\n",
      "SalePrice        1470 non-null int64\n",
      "dtypes: float64(1), int64(8)\n",
      "memory usage: 103.4 KB\n"
     ]
    }
   ],
   "source": [
    "final_corr_cols = strong_corrs.drop(['Garage Cars', 'TotRms AbvGrd'])\n",
    "test[final_corr_cols.index].info()"
   ]
  },
  {
   "cell_type": "code",
   "execution_count": 29,
   "metadata": {},
   "outputs": [],
   "source": [
    "#noben podatek ne sme manjkat, pri garage area manjka eden\n",
    "features=final_corr_cols.drop(['SalePrice']).index\n",
    "clean_test=test[final_corr_cols.index].dropna()\n",
    "target='SalePrice'"
   ]
  },
  {
   "cell_type": "code",
   "execution_count": 30,
   "metadata": {},
   "outputs": [
    {
     "data": {
      "text/plain": [
       "LinearRegression(copy_X=True, fit_intercept=True, n_jobs=None,\n",
       "         normalize=False)"
      ]
     },
     "execution_count": 30,
     "metadata": {},
     "output_type": "execute_result"
    }
   ],
   "source": [
    "lr = LinearRegression()\n",
    "lr.fit(train[features], train['SalePrice'])"
   ]
  },
  {
   "cell_type": "code",
   "execution_count": 31,
   "metadata": {},
   "outputs": [],
   "source": [
    "train_predictions = lr.predict(train[features])\n",
    "test_predictions = lr.predict(clean_test[features])"
   ]
  },
  {
   "cell_type": "code",
   "execution_count": 32,
   "metadata": {},
   "outputs": [],
   "source": [
    "train_mse = mean_squared_error(train_predictions, train[target])\n",
    "test_mse = mean_squared_error(test_predictions, clean_test[target])"
   ]
  },
  {
   "cell_type": "code",
   "execution_count": 33,
   "metadata": {},
   "outputs": [
    {
     "name": "stdout",
     "output_type": "stream",
     "text": [
      "34173.97629185852\n",
      "41032.02612019769\n"
     ]
    }
   ],
   "source": [
    "train_rmse = np.sqrt(train_mse)\n",
    "test_rmse = np.sqrt(test_mse)\n",
    "\n",
    "print(train_rmse)\n",
    "print(test_rmse)"
   ]
  },
  {
   "cell_type": "markdown",
   "metadata": {},
   "source": [
    "### Removing Low Variance Features"
   ]
  },
  {
   "cell_type": "code",
   "execution_count": 34,
   "metadata": {},
   "outputs": [],
   "source": [
    "unit_train=(train[features]-train[features.min()])/(train[features].max()-train[features.min()])"
   ]
  },
  {
   "cell_type": "code",
   "execution_count": 35,
   "metadata": {},
   "outputs": [
    {
     "name": "stdout",
     "output_type": "stream",
     "text": [
      "0               NaN\n",
      "1               NaN\n",
      "2               NaN\n",
      "3               NaN\n",
      "4               NaN\n",
      "5               NaN\n",
      "6               NaN\n",
      "7               NaN\n",
      "8               NaN\n",
      "9               NaN\n",
      "10              NaN\n",
      "11              NaN\n",
      "12              NaN\n",
      "13              NaN\n",
      "14              NaN\n",
      "15              NaN\n",
      "16              NaN\n",
      "17              NaN\n",
      "18              NaN\n",
      "19              NaN\n",
      "20              NaN\n",
      "21              NaN\n",
      "22              NaN\n",
      "23              NaN\n",
      "24              NaN\n",
      "25              NaN\n",
      "26              NaN\n",
      "27              NaN\n",
      "28              NaN\n",
      "29              NaN\n",
      "                 ..\n",
      "1438            NaN\n",
      "1439            NaN\n",
      "1440            NaN\n",
      "1441            NaN\n",
      "1442            NaN\n",
      "1443            NaN\n",
      "1444            NaN\n",
      "1445            NaN\n",
      "1446            NaN\n",
      "1447            NaN\n",
      "1448            NaN\n",
      "1449            NaN\n",
      "1450            NaN\n",
      "1451            NaN\n",
      "1452            NaN\n",
      "1453            NaN\n",
      "1454            NaN\n",
      "1455            NaN\n",
      "1456            NaN\n",
      "1457            NaN\n",
      "1458            NaN\n",
      "1459            NaN\n",
      "1st Flr SF      NaN\n",
      "Fireplaces      NaN\n",
      "Full Bath       NaN\n",
      "Garage Area     NaN\n",
      "Gr Liv Area     NaN\n",
      "Open Porch SF   NaN\n",
      "Overall Qual    NaN\n",
      "Wood Deck SF    NaN\n",
      "Length: 1468, dtype: float64\n",
      "0               NaN\n",
      "1               NaN\n",
      "2               NaN\n",
      "3               NaN\n",
      "4               NaN\n",
      "5               NaN\n",
      "6               NaN\n",
      "7               NaN\n",
      "8               NaN\n",
      "9               NaN\n",
      "10              NaN\n",
      "11              NaN\n",
      "12              NaN\n",
      "13              NaN\n",
      "14              NaN\n",
      "15              NaN\n",
      "16              NaN\n",
      "17              NaN\n",
      "18              NaN\n",
      "19              NaN\n",
      "20              NaN\n",
      "21              NaN\n",
      "22              NaN\n",
      "23              NaN\n",
      "24              NaN\n",
      "25              NaN\n",
      "26              NaN\n",
      "27              NaN\n",
      "28              NaN\n",
      "29              NaN\n",
      "                 ..\n",
      "1438            NaN\n",
      "1439            NaN\n",
      "1440            NaN\n",
      "1441            NaN\n",
      "1442            NaN\n",
      "1443            NaN\n",
      "1444            NaN\n",
      "1445            NaN\n",
      "1446            NaN\n",
      "1447            NaN\n",
      "1448            NaN\n",
      "1449            NaN\n",
      "1450            NaN\n",
      "1451            NaN\n",
      "1452            NaN\n",
      "1453            NaN\n",
      "1454            NaN\n",
      "1455            NaN\n",
      "1456            NaN\n",
      "1457            NaN\n",
      "1458            NaN\n",
      "1459            NaN\n",
      "1st Flr SF      NaN\n",
      "Fireplaces      NaN\n",
      "Full Bath       NaN\n",
      "Garage Area     NaN\n",
      "Gr Liv Area     NaN\n",
      "Open Porch SF   NaN\n",
      "Overall Qual    NaN\n",
      "Wood Deck SF    NaN\n",
      "Length: 1468, dtype: float64\n"
     ]
    }
   ],
   "source": [
    "print(unit_train.min())\n",
    "print(unit_train.max())"
   ]
  },
  {
   "cell_type": "code",
   "execution_count": 36,
   "metadata": {},
   "outputs": [
    {
     "name": "stdout",
     "output_type": "stream",
     "text": [
      "0               NaN\n",
      "1               NaN\n",
      "2               NaN\n",
      "3               NaN\n",
      "4               NaN\n",
      "5               NaN\n",
      "6               NaN\n",
      "7               NaN\n",
      "8               NaN\n",
      "9               NaN\n",
      "10              NaN\n",
      "11              NaN\n",
      "12              NaN\n",
      "13              NaN\n",
      "14              NaN\n",
      "15              NaN\n",
      "16              NaN\n",
      "17              NaN\n",
      "18              NaN\n",
      "19              NaN\n",
      "20              NaN\n",
      "21              NaN\n",
      "22              NaN\n",
      "23              NaN\n",
      "24              NaN\n",
      "25              NaN\n",
      "26              NaN\n",
      "27              NaN\n",
      "28              NaN\n",
      "29              NaN\n",
      "                 ..\n",
      "1438            NaN\n",
      "1439            NaN\n",
      "1440            NaN\n",
      "1441            NaN\n",
      "1442            NaN\n",
      "1443            NaN\n",
      "1444            NaN\n",
      "1445            NaN\n",
      "1446            NaN\n",
      "1447            NaN\n",
      "1448            NaN\n",
      "1449            NaN\n",
      "1450            NaN\n",
      "1451            NaN\n",
      "1452            NaN\n",
      "1453            NaN\n",
      "1454            NaN\n",
      "1455            NaN\n",
      "1456            NaN\n",
      "1457            NaN\n",
      "1458            NaN\n",
      "1459            NaN\n",
      "1st Flr SF      NaN\n",
      "Fireplaces      NaN\n",
      "Full Bath       NaN\n",
      "Garage Area     NaN\n",
      "Gr Liv Area     NaN\n",
      "Open Porch SF   NaN\n",
      "Overall Qual    NaN\n",
      "Wood Deck SF    NaN\n",
      "Length: 1468, dtype: float64\n"
     ]
    }
   ],
   "source": [
    "sorted_vars = unit_train.var().sort_values()\n",
    "print(sorted_vars)"
   ]
  },
  {
   "cell_type": "markdown",
   "metadata": {},
   "source": [
    "### Final Model"
   ]
  },
  {
   "cell_type": "code",
   "execution_count": 37,
   "metadata": {},
   "outputs": [],
   "source": [
    "clean_test = test[final_corr_cols.index].dropna()\n",
    "features = features.drop('Open Porch SF')"
   ]
  },
  {
   "cell_type": "code",
   "execution_count": 38,
   "metadata": {},
   "outputs": [
    {
     "data": {
      "text/plain": [
       "LinearRegression(copy_X=True, fit_intercept=True, n_jobs=None,\n",
       "         normalize=False)"
      ]
     },
     "execution_count": 38,
     "metadata": {},
     "output_type": "execute_result"
    }
   ],
   "source": [
    "lr = LinearRegression()\n",
    "lr.fit(train[features], train['SalePrice'])"
   ]
  },
  {
   "cell_type": "code",
   "execution_count": 39,
   "metadata": {},
   "outputs": [],
   "source": [
    "train_predictions = lr.predict(train[features])\n",
    "test_predictions = lr.predict(clean_test[features])"
   ]
  },
  {
   "cell_type": "code",
   "execution_count": 40,
   "metadata": {},
   "outputs": [],
   "source": [
    "train_mse = mean_squared_error(train_predictions, train[target])\n",
    "test_mse = mean_squared_error(test_predictions, clean_test[target])"
   ]
  },
  {
   "cell_type": "code",
   "execution_count": 41,
   "metadata": {},
   "outputs": [],
   "source": [
    "train_rmse_2 = np.sqrt(train_mse)\n",
    "test_rmse_2 = np.sqrt(test_mse)"
   ]
  },
  {
   "cell_type": "code",
   "execution_count": 42,
   "metadata": {},
   "outputs": [
    {
     "name": "stdout",
     "output_type": "stream",
     "text": [
      "34372.696707783965\n",
      "40591.427024377364\n"
     ]
    }
   ],
   "source": [
    "print(train_rmse_2)\n",
    "print(test_rmse_2)"
   ]
  },
  {
   "cell_type": "markdown",
   "metadata": {},
   "source": [
    "## Exercise: Predicting House Sale Prices\n"
   ]
  },
  {
   "cell_type": "markdown",
   "metadata": {},
   "source": [
    "### Introduction"
   ]
  },
  {
   "cell_type": "markdown",
   "metadata": {},
   "source": [
    "<img src=\"images/pipeline.svg\">"
   ]
  },
  {
   "cell_type": "code",
   "execution_count": 43,
   "metadata": {},
   "outputs": [],
   "source": [
    "import pandas as pd\n",
    "import numpy as np\n",
    "import matplotlib.pyplot as plt\n",
    "from sklearn.model_selection import KFold\n",
    "\n",
    "from sklearn.metrics import mean_squared_error\n",
    "from sklearn import linear_model\n",
    "from sklearn.model_selection import KFold"
   ]
  },
  {
   "cell_type": "code",
   "execution_count": 44,
   "metadata": {},
   "outputs": [],
   "source": [
    "df = pd.read_csv(\"data/AmesHousing.tsv\", delimiter=\"\\t\")"
   ]
  },
  {
   "cell_type": "code",
   "execution_count": 45,
   "metadata": {},
   "outputs": [
    {
     "data": {
      "text/plain": [
       "object     43\n",
       "int64      28\n",
       "float64    11\n",
       "dtype: int64"
      ]
     },
     "execution_count": 45,
     "metadata": {},
     "output_type": "execute_result"
    }
   ],
   "source": [
    "df.dtypes.value_counts()"
   ]
  },
  {
   "cell_type": "code",
   "execution_count": 46,
   "metadata": {},
   "outputs": [
    {
     "data": {
      "text/plain": [
       "2930"
      ]
     },
     "execution_count": 46,
     "metadata": {},
     "output_type": "execute_result"
    }
   ],
   "source": [
    "len(df)"
   ]
  },
  {
   "cell_type": "code",
   "execution_count": 47,
   "metadata": {},
   "outputs": [],
   "source": [
    "def transform_features(df):\n",
    "    return df"
   ]
  },
  {
   "cell_type": "code",
   "execution_count": 48,
   "metadata": {},
   "outputs": [
    {
     "data": {
      "text/plain": [
       "0"
      ]
     },
     "execution_count": 48,
     "metadata": {},
     "output_type": "execute_result"
    }
   ],
   "source": [
    "# ni manjčajočih vrednosti\n",
    "df['Gr Liv Area'].isnull().sum()"
   ]
  },
  {
   "cell_type": "code",
   "execution_count": 49,
   "metadata": {},
   "outputs": [],
   "source": [
    "def select_features(df):\n",
    "    return df[[\"Gr Liv Area\", \"SalePrice\"]]"
   ]
  },
  {
   "cell_type": "code",
   "execution_count": 50,
   "metadata": {},
   "outputs": [],
   "source": [
    "def train_and_test(df, debug=False):  \n",
    "    train = df[:1460]\n",
    "    test = df[1460:]\n",
    "    \n",
    "    numeric_train = train.select_dtypes(include=['integer', 'float'])\n",
    "    numeric_test = test.select_dtypes(include=['integer', 'float'])\n",
    "    \n",
    "    features = numeric_train.columns.drop(\"SalePrice\")\n",
    "    if debug: print(f'Selected features: {features.tolist()}')\n",
    "    lr = linear_model.LinearRegression()\n",
    "    lr.fit(train[features],train['SalePrice'])\n",
    "    predictions=lr.predict(test[features])\n",
    "    mse = mean_squared_error(test[\"SalePrice\"], predictions)\n",
    "    rmse = np.sqrt(mse)\n",
    "    \n",
    "    return rmse"
   ]
  },
  {
   "cell_type": "code",
   "execution_count": 51,
   "metadata": {},
   "outputs": [
    {
     "name": "stdout",
     "output_type": "stream",
     "text": [
      "Selected features: ['Gr Liv Area']\n"
     ]
    },
    {
     "data": {
      "text/plain": [
       "57088.25161263909"
      ]
     },
     "execution_count": 51,
     "metadata": {},
     "output_type": "execute_result"
    }
   ],
   "source": [
    "df = pd.read_csv(\"data/AmesHousing.tsv\", delimiter=\"\\t\")\n",
    "transform_df=transform_features(df)\n",
    "filtered_df=select_features(transform_df)\n",
    "rmse=train_and_test(filtered_df,debug=True)\n",
    "\n",
    "rmse"
   ]
  },
  {
   "cell_type": "markdown",
   "metadata": {},
   "source": [
    "### Feature Engineering"
   ]
  },
  {
   "cell_type": "markdown",
   "metadata": {},
   "source": [
    "[Dataset metadata](http://jse.amstat.org/v19n3/decock/DataDocumentation.txt)"
   ]
  },
  {
   "cell_type": "markdown",
   "metadata": {},
   "source": [
    "#### Missing Values"
   ]
  },
  {
   "cell_type": "markdown",
   "metadata": {},
   "source": [
    "1: All columns: Drop any with 5% or more missing values for now."
   ]
  },
  {
   "cell_type": "code",
   "execution_count": 52,
   "metadata": {},
   "outputs": [],
   "source": [
    "num_missing = df.isnull().sum()"
   ]
  },
  {
   "cell_type": "code",
   "execution_count": 53,
   "metadata": {},
   "outputs": [
    {
     "data": {
      "text/plain": [
       "Order                0\n",
       "PID                  0\n",
       "MS SubClass          0\n",
       "MS Zoning            0\n",
       "Lot Frontage       490\n",
       "Lot Area             0\n",
       "Street               0\n",
       "Alley             2732\n",
       "Lot Shape            0\n",
       "Land Contour         0\n",
       "Utilities            0\n",
       "Lot Config           0\n",
       "Land Slope           0\n",
       "Neighborhood         0\n",
       "Condition 1          0\n",
       "Condition 2          0\n",
       "Bldg Type            0\n",
       "House Style          0\n",
       "Overall Qual         0\n",
       "Overall Cond         0\n",
       "Year Built           0\n",
       "Year Remod/Add       0\n",
       "Roof Style           0\n",
       "Roof Matl            0\n",
       "Exterior 1st         0\n",
       "Exterior 2nd         0\n",
       "Mas Vnr Type        23\n",
       "Mas Vnr Area        23\n",
       "Exter Qual           0\n",
       "Exter Cond           0\n",
       "                  ... \n",
       "Bedroom AbvGr        0\n",
       "Kitchen AbvGr        0\n",
       "Kitchen Qual         0\n",
       "TotRms AbvGrd        0\n",
       "Functional           0\n",
       "Fireplaces           0\n",
       "Fireplace Qu      1422\n",
       "Garage Type        157\n",
       "Garage Yr Blt      159\n",
       "Garage Finish      159\n",
       "Garage Cars          1\n",
       "Garage Area          1\n",
       "Garage Qual        159\n",
       "Garage Cond        159\n",
       "Paved Drive          0\n",
       "Wood Deck SF         0\n",
       "Open Porch SF        0\n",
       "Enclosed Porch       0\n",
       "3Ssn Porch           0\n",
       "Screen Porch         0\n",
       "Pool Area            0\n",
       "Pool QC           2917\n",
       "Fence             2358\n",
       "Misc Feature      2824\n",
       "Misc Val             0\n",
       "Mo Sold              0\n",
       "Yr Sold              0\n",
       "Sale Type            0\n",
       "Sale Condition       0\n",
       "SalePrice            0\n",
       "Length: 82, dtype: int64"
      ]
     },
     "execution_count": 53,
     "metadata": {},
     "output_type": "execute_result"
    }
   ],
   "source": [
    "num_missing "
   ]
  },
  {
   "cell_type": "code",
   "execution_count": null,
   "metadata": {},
   "outputs": [],
   "source": []
  },
  {
   "cell_type": "code",
   "execution_count": 57,
   "metadata": {},
   "outputs": [
    {
     "data": {
      "text/plain": [
       "Index(['Garage Type', 'Garage Yr Blt', 'Garage Finish', 'Garage Qual',\n",
       "       'Garage Cond', 'Lot Frontage', 'Fireplace Qu', 'Fence', 'Alley',\n",
       "       'Misc Feature', 'Pool QC'],\n",
       "      dtype='object')"
      ]
     },
     "execution_count": 57,
     "metadata": {},
     "output_type": "execute_result"
    }
   ],
   "source": [
    "# Filter Series to columns containing >5% missing values\n",
    "drop_missing_cols=num_missing[(num_missing)>len(df)/20].sort_values()\n",
    "drop_missing_cols.index"
   ]
  },
  {
   "cell_type": "code",
   "execution_count": 59,
   "metadata": {},
   "outputs": [],
   "source": [
    "# Drop those columns from the data frame. Note the use of the .index accessor\n",
    "df=df.drop(drop_missing_cols.index,axis=1)"
   ]
  },
  {
   "cell_type": "code",
   "execution_count": 61,
   "metadata": {},
   "outputs": [
    {
     "data": {
      "text/plain": [
       "Order               0\n",
       "PID                 0\n",
       "MS SubClass         0\n",
       "MS Zoning           0\n",
       "Lot Area            0\n",
       "Street              0\n",
       "Lot Shape           0\n",
       "Land Contour        0\n",
       "Utilities           0\n",
       "Lot Config          0\n",
       "Land Slope          0\n",
       "Neighborhood        0\n",
       "Condition 1         0\n",
       "Condition 2         0\n",
       "Bldg Type           0\n",
       "House Style         0\n",
       "Overall Qual        0\n",
       "Overall Cond        0\n",
       "Year Built          0\n",
       "Year Remod/Add      0\n",
       "Roof Style          0\n",
       "Roof Matl           0\n",
       "Exterior 1st        0\n",
       "Exterior 2nd        0\n",
       "Mas Vnr Type       23\n",
       "Mas Vnr Area       23\n",
       "Exter Qual          0\n",
       "Exter Cond          0\n",
       "Foundation          0\n",
       "Bsmt Qual          80\n",
       "                   ..\n",
       "Electrical          1\n",
       "1st Flr SF          0\n",
       "2nd Flr SF          0\n",
       "Low Qual Fin SF     0\n",
       "Gr Liv Area         0\n",
       "Bsmt Full Bath      2\n",
       "Bsmt Half Bath      2\n",
       "Full Bath           0\n",
       "Half Bath           0\n",
       "Bedroom AbvGr       0\n",
       "Kitchen AbvGr       0\n",
       "Kitchen Qual        0\n",
       "TotRms AbvGrd       0\n",
       "Functional          0\n",
       "Fireplaces          0\n",
       "Garage Cars         1\n",
       "Garage Area         1\n",
       "Paved Drive         0\n",
       "Wood Deck SF        0\n",
       "Open Porch SF       0\n",
       "Enclosed Porch      0\n",
       "3Ssn Porch          0\n",
       "Screen Porch        0\n",
       "Pool Area           0\n",
       "Misc Val            0\n",
       "Mo Sold             0\n",
       "Yr Sold             0\n",
       "Sale Type           0\n",
       "Sale Condition      0\n",
       "SalePrice           0\n",
       "Length: 71, dtype: int64"
      ]
     },
     "execution_count": 61,
     "metadata": {},
     "output_type": "execute_result"
    }
   ],
   "source": [
    "df.isnull().sum()"
   ]
  },
  {
   "cell_type": "code",
   "execution_count": null,
   "metadata": {},
   "outputs": [],
   "source": []
  },
  {
   "cell_type": "markdown",
   "metadata": {},
   "source": [
    "2: Text columns: Drop any with 1 or more missing values for now."
   ]
  },
  {
   "cell_type": "code",
   "execution_count": 62,
   "metadata": {},
   "outputs": [],
   "source": [
    "## Series object: column name -> number of missing value\n",
    "\n",
    "text_mv_counts=df.select_dtypes(include=['object']).isnull().sum().sort_values(ascending=False)"
   ]
  },
  {
   "cell_type": "code",
   "execution_count": 63,
   "metadata": {},
   "outputs": [],
   "source": [
    "## Filter Series to columns containing *any* missing values\n",
    "drop_missing_cols_2=text_mv_counts[text_mv_counts>0]"
   ]
  },
  {
   "cell_type": "code",
   "execution_count": 64,
   "metadata": {},
   "outputs": [
    {
     "data": {
      "text/plain": [
       "Bsmt Exposure     83\n",
       "BsmtFin Type 2    81\n",
       "BsmtFin Type 1    80\n",
       "Bsmt Qual         80\n",
       "Bsmt Cond         80\n",
       "Mas Vnr Type      23\n",
       "Electrical         1\n",
       "dtype: int64"
      ]
     },
     "execution_count": 64,
     "metadata": {},
     "output_type": "execute_result"
    }
   ],
   "source": [
    "drop_missing_cols_2"
   ]
  },
  {
   "cell_type": "code",
   "execution_count": 65,
   "metadata": {},
   "outputs": [],
   "source": [
    "df=df.drop(drop_missing_cols_2.index,axis=1)"
   ]
  },
  {
   "cell_type": "code",
   "execution_count": null,
   "metadata": {},
   "outputs": [],
   "source": []
  },
  {
   "cell_type": "markdown",
   "metadata": {},
   "source": [
    "3: Numerical columns: For columns with missing values, fill in with the most common value in that column"
   ]
  },
  {
   "cell_type": "code",
   "execution_count": 66,
   "metadata": {},
   "outputs": [
    {
     "data": {
      "text/plain": [
       "BsmtFin SF 1       1\n",
       "BsmtFin SF 2       1\n",
       "Bsmt Unf SF        1\n",
       "Total Bsmt SF      1\n",
       "Garage Cars        1\n",
       "Garage Area        1\n",
       "Bsmt Full Bath     2\n",
       "Bsmt Half Bath     2\n",
       "Mas Vnr Area      23\n",
       "dtype: int64"
      ]
     },
     "execution_count": 66,
     "metadata": {},
     "output_type": "execute_result"
    }
   ],
   "source": [
    "## Compute column-wise missing value counts\n",
    "num_missing = df.select_dtypes(include=['int', 'float']).isnull().sum()\n",
    "fixable_numeric_cols = num_missing[(num_missing < len(df)/20) & (num_missing > 0)].sort_values()\n",
    "fixable_numeric_cols"
   ]
  },
  {
   "cell_type": "code",
   "execution_count": 69,
   "metadata": {},
   "outputs": [],
   "source": [
    "## Compute the most common value for each column in `fixable_nmeric_missing_cols`.\n",
    "replacement_values_dict=df[fixable_numeric_cols.index].mode().to_dict(orient='records')[0]"
   ]
  },
  {
   "cell_type": "code",
   "execution_count": 70,
   "metadata": {},
   "outputs": [
    {
     "data": {
      "text/plain": [
       "{'BsmtFin SF 1': 0.0,\n",
       " 'BsmtFin SF 2': 0.0,\n",
       " 'Bsmt Unf SF': 0.0,\n",
       " 'Total Bsmt SF': 0.0,\n",
       " 'Garage Cars': 2.0,\n",
       " 'Garage Area': 0.0,\n",
       " 'Bsmt Full Bath': 0.0,\n",
       " 'Bsmt Half Bath': 0.0,\n",
       " 'Mas Vnr Area': 0.0}"
      ]
     },
     "execution_count": 70,
     "metadata": {},
     "output_type": "execute_result"
    }
   ],
   "source": [
    "#dobimo ime stolpca ter vrednost s kateremmoram fillat prazne vrstice znotraj določenih stolpcev\n",
    "replacement_values_dict"
   ]
  },
  {
   "cell_type": "code",
   "execution_count": 71,
   "metadata": {},
   "outputs": [],
   "source": [
    "## Use `pd.DataFrame.fillna()` to replace missing values. dopolnjujemo kar nam manjka z mode vrednostjo glej COMPUTE\n",
    "#.to_dict(orient='records')[0]\n",
    "df=df.fillna(replacement_values_dict)"
   ]
  },
  {
   "cell_type": "code",
   "execution_count": 72,
   "metadata": {},
   "outputs": [
    {
     "data": {
      "text/plain": [
       "0    64\n",
       "dtype: int64"
      ]
     },
     "execution_count": 72,
     "metadata": {},
     "output_type": "execute_result"
    }
   ],
   "source": [
    "## Verify that every column has 0 missing values\n",
    "df.isnull().sum().value_counts()"
   ]
  },
  {
   "cell_type": "markdown",
   "metadata": {},
   "source": [
    "#### Transforming Improper Numerical Features"
   ]
  },
  {
   "cell_type": "code",
   "execution_count": 73,
   "metadata": {},
   "outputs": [],
   "source": [
    "df = pd.read_csv(\"data/AmesHousing.tsv\", delimiter=\"\\t\")"
   ]
  },
  {
   "cell_type": "code",
   "execution_count": 74,
   "metadata": {},
   "outputs": [
    {
     "data": {
      "text/html": [
       "<div>\n",
       "<style scoped>\n",
       "    .dataframe tbody tr th:only-of-type {\n",
       "        vertical-align: middle;\n",
       "    }\n",
       "\n",
       "    .dataframe tbody tr th {\n",
       "        vertical-align: top;\n",
       "    }\n",
       "\n",
       "    .dataframe thead th {\n",
       "        text-align: right;\n",
       "    }\n",
       "</style>\n",
       "<table border=\"1\" class=\"dataframe\">\n",
       "  <thead>\n",
       "    <tr style=\"text-align: right;\">\n",
       "      <th></th>\n",
       "      <th>Year Remod/Add</th>\n",
       "      <th>Year Built</th>\n",
       "    </tr>\n",
       "  </thead>\n",
       "  <tbody>\n",
       "    <tr>\n",
       "      <th>0</th>\n",
       "      <td>1960</td>\n",
       "      <td>1960</td>\n",
       "    </tr>\n",
       "    <tr>\n",
       "      <th>1</th>\n",
       "      <td>1961</td>\n",
       "      <td>1961</td>\n",
       "    </tr>\n",
       "    <tr>\n",
       "      <th>2</th>\n",
       "      <td>1958</td>\n",
       "      <td>1958</td>\n",
       "    </tr>\n",
       "    <tr>\n",
       "      <th>3</th>\n",
       "      <td>1968</td>\n",
       "      <td>1968</td>\n",
       "    </tr>\n",
       "    <tr>\n",
       "      <th>4</th>\n",
       "      <td>1998</td>\n",
       "      <td>1997</td>\n",
       "    </tr>\n",
       "  </tbody>\n",
       "</table>\n",
       "</div>"
      ],
      "text/plain": [
       "   Year Remod/Add  Year Built\n",
       "0            1960        1960\n",
       "1            1961        1961\n",
       "2            1958        1958\n",
       "3            1968        1968\n",
       "4            1998        1997"
      ]
     },
     "execution_count": 74,
     "metadata": {},
     "output_type": "execute_result"
    }
   ],
   "source": [
    "df[['Year Remod/Add', 'Year Built']].head()"
   ]
  },
  {
   "cell_type": "code",
   "execution_count": 75,
   "metadata": {},
   "outputs": [
    {
     "data": {
      "text/plain": [
       "2180   -1\n",
       "dtype: int64"
      ]
     },
     "execution_count": 75,
     "metadata": {},
     "output_type": "execute_result"
    }
   ],
   "source": [
    "years_sold = df['Yr Sold'] - df['Year Built']\n",
    "years_sold[years_sold < 0]"
   ]
  },
  {
   "cell_type": "code",
   "execution_count": 76,
   "metadata": {},
   "outputs": [
    {
     "data": {
      "text/plain": [
       "1702   -1\n",
       "2180   -2\n",
       "2181   -1\n",
       "dtype: int64"
      ]
     },
     "execution_count": 76,
     "metadata": {},
     "output_type": "execute_result"
    }
   ],
   "source": [
    "years_since_remod = df['Yr Sold'] - df['Year Remod/Add']\n",
    "years_since_remod[years_since_remod < 0]"
   ]
  },
  {
   "cell_type": "code",
   "execution_count": 77,
   "metadata": {},
   "outputs": [],
   "source": [
    "## Create new columns\n",
    "df['Years Before Sale'] = years_sold\n",
    "df['Years Since Remod'] = years_since_remod\n",
    "\n",
    "## Drop rows with negative values for both of these new features\n",
    "df = df.drop([1702, 2180, 2181], axis=0)\n",
    "\n",
    "## No longer need original year columns\n",
    "df = df.drop([\"Year Built\", \"Year Remod/Add\"], axis = 1)"
   ]
  },
  {
   "cell_type": "markdown",
   "metadata": {},
   "source": [
    "Drop columns that:\n",
    "- that aren't useful for ML\n",
    "- leak data about the final sale, read more about columns here"
   ]
  },
  {
   "cell_type": "code",
   "execution_count": 78,
   "metadata": {},
   "outputs": [],
   "source": [
    "## Drop columns that aren't useful for ML\n",
    "df = df.drop([\"PID\", \"Order\"], axis=1)\n",
    "\n",
    "## Drop columns that leak info about the final sale\n",
    "df = df.drop([\"Mo Sold\", \"Sale Condition\", \"Sale Type\", \"Yr Sold\"], axis=1)"
   ]
  },
  {
   "cell_type": "code",
   "execution_count": 79,
   "metadata": {},
   "outputs": [
    {
     "data": {
      "text/plain": [
       "object     41\n",
       "int64      24\n",
       "float64    11\n",
       "dtype: int64"
      ]
     },
     "execution_count": 79,
     "metadata": {},
     "output_type": "execute_result"
    }
   ],
   "source": [
    "df.dtypes.value_counts()"
   ]
  },
  {
   "cell_type": "code",
   "execution_count": 80,
   "metadata": {},
   "outputs": [],
   "source": [
    "df = pd.read_csv(\"data/AmesHousing.tsv\", delimiter=\"\\t\")"
   ]
  },
  {
   "cell_type": "code",
   "execution_count": null,
   "metadata": {},
   "outputs": [],
   "source": [
    "#funkcijo prekopiraj iz njegovega jupyter notebooka\n",
    "\n",
    "def transform_features(df, debug=False):\n",
    "    # naredimo kopijo dfja\n",
    "    df_working = df.copy()\n",
    "    \n",
    "    # odstranimo vse stolpce ki vsebujejo več kot 5% manjkajočih vrednosti\n",
    "    num_missing=df_working.isnull().sum()\n",
    "    drop_missing_cols=num_missing[(num_missing>len(df_working)/20)].sort_values()\n",
    "    if debug: print(f'\\nDropping columns: {drop_missing_cols.index.tolist()}')\n",
    "    df_working=df_working.drop(drop_missing_cols.index,axis=1)\n",
    "    \n",
    "    # odstranimo vse stolpce ki vsebujejo object in manjkajoče vrednosti\n",
    "   \n",
    "    if debug: print(f'\\nDropping columns (object): {drop_missing_cols_2.index.tolist()}')\n",
    "    \n",
    "    \n",
    "    # ostale manjkajoče vrednosti dopolnemo z najbolj pogosto vrednostjo v stolpcu\n",
    "    \n",
    "    if debug: \n",
    "        print('\\nReplacement values:')\n",
    "        for key, value in replacement_values_dict.items():\n",
    "            print(f'\\t{key}: {value}')\n",
    "    \n",
    "    \n",
    "    # naredimo nove značilke\n",
    "    years_sold = df_working['Yr Sold'] - df_working['Year Built']\n",
    "    years_since_remod = df_working['Yr Sold'] - df_working['Year Remod/Add']\n",
    "    df_working['Years Before Sale']=years_sold\n",
    "    df_working['Years Since Remod']=years_since_remod\n",
    "    drop_rows=years_since_remod\n",
    "\n",
    "    \n",
    "    # odvržemo še ostale nepotrebne stolpce\n",
    "    df_working = df_working.drop([\"PID\", \"Order\", \"Mo Sold\", \"Sale Condition\", \"Sale Type\", \"Year Built\", \"Year Remod/Add\"], axis=1)\n",
    "    \n",
    "    return df_working   "
   ]
  },
  {
   "cell_type": "code",
   "execution_count": null,
   "metadata": {},
   "outputs": [],
   "source": [
    "df = pd.read_csv(\"data/AmesHousing.tsv\", delimiter=\"\\t\")\n",
    "transform_df = transform_features(df, debug=True)\n",
    "filtered_df = select_features(transform_df)\n",
    "rmse = train_and_test(filtered_df, debug=True)\n",
    "\n",
    "rmse"
   ]
  },
  {
   "cell_type": "markdown",
   "metadata": {},
   "source": [
    "### Feature Selection"
   ]
  },
  {
   "cell_type": "code",
   "execution_count": 81,
   "metadata": {},
   "outputs": [
    {
     "data": {
      "text/html": [
       "<div>\n",
       "<style scoped>\n",
       "    .dataframe tbody tr th:only-of-type {\n",
       "        vertical-align: middle;\n",
       "    }\n",
       "\n",
       "    .dataframe tbody tr th {\n",
       "        vertical-align: top;\n",
       "    }\n",
       "\n",
       "    .dataframe thead th {\n",
       "        text-align: right;\n",
       "    }\n",
       "</style>\n",
       "<table border=\"1\" class=\"dataframe\">\n",
       "  <thead>\n",
       "    <tr style=\"text-align: right;\">\n",
       "      <th></th>\n",
       "      <th>Order</th>\n",
       "      <th>PID</th>\n",
       "      <th>MS SubClass</th>\n",
       "      <th>Lot Frontage</th>\n",
       "      <th>Lot Area</th>\n",
       "      <th>Overall Qual</th>\n",
       "      <th>Overall Cond</th>\n",
       "      <th>Year Built</th>\n",
       "      <th>Year Remod/Add</th>\n",
       "      <th>Mas Vnr Area</th>\n",
       "      <th>...</th>\n",
       "      <th>Wood Deck SF</th>\n",
       "      <th>Open Porch SF</th>\n",
       "      <th>Enclosed Porch</th>\n",
       "      <th>3Ssn Porch</th>\n",
       "      <th>Screen Porch</th>\n",
       "      <th>Pool Area</th>\n",
       "      <th>Misc Val</th>\n",
       "      <th>Mo Sold</th>\n",
       "      <th>Yr Sold</th>\n",
       "      <th>SalePrice</th>\n",
       "    </tr>\n",
       "  </thead>\n",
       "  <tbody>\n",
       "    <tr>\n",
       "      <th>0</th>\n",
       "      <td>1</td>\n",
       "      <td>526301100</td>\n",
       "      <td>20</td>\n",
       "      <td>141.0</td>\n",
       "      <td>31770</td>\n",
       "      <td>6</td>\n",
       "      <td>5</td>\n",
       "      <td>1960</td>\n",
       "      <td>1960</td>\n",
       "      <td>112.0</td>\n",
       "      <td>...</td>\n",
       "      <td>210</td>\n",
       "      <td>62</td>\n",
       "      <td>0</td>\n",
       "      <td>0</td>\n",
       "      <td>0</td>\n",
       "      <td>0</td>\n",
       "      <td>0</td>\n",
       "      <td>5</td>\n",
       "      <td>2010</td>\n",
       "      <td>215000</td>\n",
       "    </tr>\n",
       "    <tr>\n",
       "      <th>1</th>\n",
       "      <td>2</td>\n",
       "      <td>526350040</td>\n",
       "      <td>20</td>\n",
       "      <td>80.0</td>\n",
       "      <td>11622</td>\n",
       "      <td>5</td>\n",
       "      <td>6</td>\n",
       "      <td>1961</td>\n",
       "      <td>1961</td>\n",
       "      <td>0.0</td>\n",
       "      <td>...</td>\n",
       "      <td>140</td>\n",
       "      <td>0</td>\n",
       "      <td>0</td>\n",
       "      <td>0</td>\n",
       "      <td>120</td>\n",
       "      <td>0</td>\n",
       "      <td>0</td>\n",
       "      <td>6</td>\n",
       "      <td>2010</td>\n",
       "      <td>105000</td>\n",
       "    </tr>\n",
       "    <tr>\n",
       "      <th>2</th>\n",
       "      <td>3</td>\n",
       "      <td>526351010</td>\n",
       "      <td>20</td>\n",
       "      <td>81.0</td>\n",
       "      <td>14267</td>\n",
       "      <td>6</td>\n",
       "      <td>6</td>\n",
       "      <td>1958</td>\n",
       "      <td>1958</td>\n",
       "      <td>108.0</td>\n",
       "      <td>...</td>\n",
       "      <td>393</td>\n",
       "      <td>36</td>\n",
       "      <td>0</td>\n",
       "      <td>0</td>\n",
       "      <td>0</td>\n",
       "      <td>0</td>\n",
       "      <td>12500</td>\n",
       "      <td>6</td>\n",
       "      <td>2010</td>\n",
       "      <td>172000</td>\n",
       "    </tr>\n",
       "    <tr>\n",
       "      <th>3</th>\n",
       "      <td>4</td>\n",
       "      <td>526353030</td>\n",
       "      <td>20</td>\n",
       "      <td>93.0</td>\n",
       "      <td>11160</td>\n",
       "      <td>7</td>\n",
       "      <td>5</td>\n",
       "      <td>1968</td>\n",
       "      <td>1968</td>\n",
       "      <td>0.0</td>\n",
       "      <td>...</td>\n",
       "      <td>0</td>\n",
       "      <td>0</td>\n",
       "      <td>0</td>\n",
       "      <td>0</td>\n",
       "      <td>0</td>\n",
       "      <td>0</td>\n",
       "      <td>0</td>\n",
       "      <td>4</td>\n",
       "      <td>2010</td>\n",
       "      <td>244000</td>\n",
       "    </tr>\n",
       "    <tr>\n",
       "      <th>4</th>\n",
       "      <td>5</td>\n",
       "      <td>527105010</td>\n",
       "      <td>60</td>\n",
       "      <td>74.0</td>\n",
       "      <td>13830</td>\n",
       "      <td>5</td>\n",
       "      <td>5</td>\n",
       "      <td>1997</td>\n",
       "      <td>1998</td>\n",
       "      <td>0.0</td>\n",
       "      <td>...</td>\n",
       "      <td>212</td>\n",
       "      <td>34</td>\n",
       "      <td>0</td>\n",
       "      <td>0</td>\n",
       "      <td>0</td>\n",
       "      <td>0</td>\n",
       "      <td>0</td>\n",
       "      <td>3</td>\n",
       "      <td>2010</td>\n",
       "      <td>189900</td>\n",
       "    </tr>\n",
       "  </tbody>\n",
       "</table>\n",
       "<p>5 rows × 39 columns</p>\n",
       "</div>"
      ],
      "text/plain": [
       "   Order        PID  MS SubClass  Lot Frontage  Lot Area  Overall Qual  \\\n",
       "0      1  526301100           20         141.0     31770             6   \n",
       "1      2  526350040           20          80.0     11622             5   \n",
       "2      3  526351010           20          81.0     14267             6   \n",
       "3      4  526353030           20          93.0     11160             7   \n",
       "4      5  527105010           60          74.0     13830             5   \n",
       "\n",
       "   Overall Cond  Year Built  Year Remod/Add  Mas Vnr Area  ...  Wood Deck SF  \\\n",
       "0             5        1960            1960         112.0  ...           210   \n",
       "1             6        1961            1961           0.0  ...           140   \n",
       "2             6        1958            1958         108.0  ...           393   \n",
       "3             5        1968            1968           0.0  ...             0   \n",
       "4             5        1997            1998           0.0  ...           212   \n",
       "\n",
       "   Open Porch SF  Enclosed Porch  3Ssn Porch  Screen Porch  Pool Area  \\\n",
       "0             62               0           0             0          0   \n",
       "1              0               0           0           120          0   \n",
       "2             36               0           0             0          0   \n",
       "3              0               0           0             0          0   \n",
       "4             34               0           0             0          0   \n",
       "\n",
       "   Misc Val  Mo Sold  Yr Sold  SalePrice  \n",
       "0         0        5     2010     215000  \n",
       "1         0        6     2010     105000  \n",
       "2     12500        6     2010     172000  \n",
       "3         0        4     2010     244000  \n",
       "4         0        3     2010     189900  \n",
       "\n",
       "[5 rows x 39 columns]"
      ]
     },
     "execution_count": 81,
     "metadata": {},
     "output_type": "execute_result"
    }
   ],
   "source": [
    "numerical_df = transform_df.select_dtypes(include=['int', 'float'])\n",
    "numerical_df.head(5)"
   ]
  },
  {
   "cell_type": "code",
   "execution_count": 82,
   "metadata": {},
   "outputs": [],
   "source": [
    "abs_corr_coeffs=numerical_df.corr()['SalePrice'].abs().sort_values()"
   ]
  },
  {
   "cell_type": "code",
   "execution_count": 83,
   "metadata": {},
   "outputs": [
    {
     "data": {
      "text/plain": [
       "BsmtFin SF 1      0.432914\n",
       "Fireplaces        0.474558\n",
       "TotRms AbvGrd     0.495474\n",
       "Mas Vnr Area      0.508285\n",
       "Garage Yr Blt     0.526965\n",
       "Year Remod/Add    0.532974\n",
       "Full Bath         0.545604\n",
       "Year Built        0.558426\n",
       "1st Flr SF        0.621676\n",
       "Total Bsmt SF     0.632280\n",
       "Garage Area       0.640401\n",
       "Garage Cars       0.647877\n",
       "Gr Liv Area       0.706780\n",
       "Overall Qual      0.799262\n",
       "SalePrice         1.000000\n",
       "Name: SalePrice, dtype: float64"
      ]
     },
     "execution_count": 83,
     "metadata": {},
     "output_type": "execute_result"
    }
   ],
   "source": [
    "## Let's only keep columns with a correlation coefficient of larger than 0.4 (arbitrary, worth experimenting later!)\n",
    "abs_corr_coeffs[abs_corr_coeffs>0.4]"
   ]
  },
  {
   "cell_type": "code",
   "execution_count": 84,
   "metadata": {},
   "outputs": [],
   "source": [
    "## Drop columns with less than 0.4 correlation with SalePrice\n",
    "transform_df=transform_df.drop(abs_corr_coeffs[abs_corr_coeffs<0.4].index,axis=1)"
   ]
  },
  {
   "cell_type": "code",
   "execution_count": 85,
   "metadata": {},
   "outputs": [
    {
     "data": {
      "image/png": "[encoded data removed]",
      "text/plain": [
       "<Figure size 432x288 with 2 Axes>"
      ]
     },
     "metadata": {
      "needs_background": "light"
     },
     "output_type": "display_data"
    }
   ],
   "source": [
    "import seaborn as sns\n",
    "import matplotlib.pyplot as plt\n",
    "\n",
    "corrmat = numerical_df[abs_corr_coeffs.index].corr()\n",
    "sns.heatmap(corrmat)\n",
    "plt.show()"
   ]
  },
  {
   "cell_type": "code",
   "execution_count": 88,
   "metadata": {},
   "outputs": [],
   "source": [
    "df = pd.read_csv(\"data/AmesHousing.tsv\", delimiter=\"\\t\")\n",
    "\n",
    "def select_features(df_, coeff_threshold=0.4, debug=False):\n",
    "    df = df_.copy()\n",
    "    df_org_shape = df.shape\n",
    "    numerical_df = transform_df.select_dtypes(include=['int', 'float'])\n",
    "    abs_corr_coeffs=numerical_df.corr()['SalePrice'].abs().sort_values()\n",
    "    transform_df=df.drop(abs_corr_coeffs[abs_corr_coeffs<coeff_threshold].index,axis=1)\n",
    "    \n",
    "    if debug: print(f'We dropped {df_org_shape[1] - df.shape[1]} columns.')\n",
    "    return df"
   ]
  },
  {
   "cell_type": "code",
   "execution_count": 89,
   "metadata": {},
   "outputs": [
    {
     "ename": "TypeError",
     "evalue": "transform_features() got an unexpected keyword argument 'debug'",
     "output_type": "error",
     "traceback": [
      "\u001b[0;31m---------------------------------------------------------------------------\u001b[0m",
      "\u001b[0;31mTypeError\u001b[0m                                 Traceback (most recent call last)",
      "\u001b[0;32m<ipython-input-89-40bcda331ee1>\u001b[0m in \u001b[0;36m<module>\u001b[0;34m\u001b[0m\n\u001b[1;32m      1\u001b[0m \u001b[0mdf\u001b[0m \u001b[0;34m=\u001b[0m \u001b[0mpd\u001b[0m\u001b[0;34m.\u001b[0m\u001b[0mread_csv\u001b[0m\u001b[0;34m(\u001b[0m\u001b[0;34m\"data/AmesHousing.tsv\"\u001b[0m\u001b[0;34m,\u001b[0m \u001b[0mdelimiter\u001b[0m\u001b[0;34m=\u001b[0m\u001b[0;34m\"\\t\"\u001b[0m\u001b[0;34m)\u001b[0m\u001b[0;34m\u001b[0m\u001b[0;34m\u001b[0m\u001b[0m\n\u001b[0;32m----> 2\u001b[0;31m \u001b[0mtransform_df\u001b[0m \u001b[0;34m=\u001b[0m \u001b[0mtransform_features\u001b[0m\u001b[0;34m(\u001b[0m\u001b[0mdf\u001b[0m\u001b[0;34m,\u001b[0m \u001b[0mdebug\u001b[0m\u001b[0;34m=\u001b[0m\u001b[0;32mTrue\u001b[0m\u001b[0;34m)\u001b[0m\u001b[0;34m\u001b[0m\u001b[0;34m\u001b[0m\u001b[0m\n\u001b[0m\u001b[1;32m      3\u001b[0m \u001b[0mfiltered_df\u001b[0m \u001b[0;34m=\u001b[0m \u001b[0mselect_features\u001b[0m\u001b[0;34m(\u001b[0m\u001b[0mtransform_df\u001b[0m\u001b[0;34m,\u001b[0m \u001b[0mcoeff_threshold\u001b[0m\u001b[0;34m=\u001b[0m\u001b[0;36m0.4\u001b[0m\u001b[0;34m,\u001b[0m \u001b[0mdebug\u001b[0m\u001b[0;34m=\u001b[0m\u001b[0;32mTrue\u001b[0m\u001b[0;34m)\u001b[0m\u001b[0;34m\u001b[0m\u001b[0;34m\u001b[0m\u001b[0m\n\u001b[1;32m      4\u001b[0m \u001b[0mrmse\u001b[0m \u001b[0;34m=\u001b[0m \u001b[0mtrain_and_test\u001b[0m\u001b[0;34m(\u001b[0m\u001b[0mfiltered_df\u001b[0m\u001b[0;34m,\u001b[0m \u001b[0mdebug\u001b[0m\u001b[0;34m=\u001b[0m\u001b[0;32mTrue\u001b[0m\u001b[0;34m)\u001b[0m\u001b[0;34m\u001b[0m\u001b[0;34m\u001b[0m\u001b[0m\n\u001b[1;32m      5\u001b[0m \u001b[0;34m\u001b[0m\u001b[0m\n",
      "\u001b[0;31mTypeError\u001b[0m: transform_features() got an unexpected keyword argument 'debug'"
     ]
    }
   ],
   "source": [
    "df = pd.read_csv(\"data/AmesHousing.tsv\", delimiter=\"\\t\")\n",
    "transform_df = transform_features(df, debug=True)\n",
    "filtered_df = select_features(transform_df, coeff_threshold=0.4, debug=True)\n",
    "rmse = train_and_test(filtered_df, debug=True)\n",
    "\n",
    "rmse"
   ]
  },
  {
   "cell_type": "markdown",
   "metadata": {},
   "source": [
    "#### Categorical Features"
   ]
  },
  {
   "cell_type": "code",
   "execution_count": 90,
   "metadata": {},
   "outputs": [],
   "source": [
    "df = pd.read_csv(\"data/AmesHousing.tsv\", delimiter=\"\\t\")"
   ]
  },
  {
   "cell_type": "code",
   "execution_count": 91,
   "metadata": {},
   "outputs": [
    {
     "data": {
      "text/plain": [
       "AllPub    2927\n",
       "NoSewr       2\n",
       "NoSeWa       1\n",
       "Name: Utilities, dtype: int64"
      ]
     },
     "execution_count": 91,
     "metadata": {},
     "output_type": "execute_result"
    }
   ],
   "source": [
    "df['Utilities'].value_counts()"
   ]
  },
  {
   "cell_type": "code",
   "execution_count": 92,
   "metadata": {},
   "outputs": [
    {
     "data": {
      "text/plain": [
       "Pave    2918\n",
       "Grvl      12\n",
       "Name: Street, dtype: int64"
      ]
     },
     "execution_count": 92,
     "metadata": {},
     "output_type": "execute_result"
    }
   ],
   "source": [
    "df['Street'].value_counts()"
   ]
  },
  {
   "cell_type": "code",
   "execution_count": 93,
   "metadata": {},
   "outputs": [
    {
     "data": {
      "text/plain": [
       "1Story    1481\n",
       "2Story     873\n",
       "1.5Fin     314\n",
       "SLvl       128\n",
       "SFoyer      83\n",
       "2.5Unf      24\n",
       "1.5Unf      19\n",
       "2.5Fin       8\n",
       "Name: House Style, dtype: int64"
      ]
     },
     "execution_count": 93,
     "metadata": {},
     "output_type": "execute_result"
    }
   ],
   "source": [
    "df['House Style'].value_counts()"
   ]
  },
  {
   "cell_type": "code",
   "execution_count": 94,
   "metadata": {},
   "outputs": [],
   "source": [
    "df['Utilities'] =df['Utilities'].astype('category')"
   ]
  },
  {
   "cell_type": "code",
   "execution_count": 95,
   "metadata": {},
   "outputs": [
    {
     "data": {
      "text/plain": [
       "0    AllPub\n",
       "1    AllPub\n",
       "2    AllPub\n",
       "3    AllPub\n",
       "4    AllPub\n",
       "Name: Utilities, dtype: category\n",
       "Categories (3, object): [AllPub, NoSeWa, NoSewr]"
      ]
     },
     "execution_count": 95,
     "metadata": {},
     "output_type": "execute_result"
    }
   ],
   "source": [
    "df['Utilities'].head()"
   ]
  },
  {
   "cell_type": "code",
   "execution_count": 96,
   "metadata": {},
   "outputs": [
    {
     "data": {
      "text/plain": [
       "0    0\n",
       "1    0\n",
       "2    0\n",
       "3    0\n",
       "4    0\n",
       "dtype: int8"
      ]
     },
     "execution_count": 96,
     "metadata": {},
     "output_type": "execute_result"
    }
   ],
   "source": [
    "df['Utilities'].cat.codes.head()"
   ]
  },
  {
   "cell_type": "code",
   "execution_count": 97,
   "metadata": {},
   "outputs": [
    {
     "ename": "TypeError",
     "evalue": "transform_features() got an unexpected keyword argument 'debug'",
     "output_type": "error",
     "traceback": [
      "\u001b[0;31m---------------------------------------------------------------------------\u001b[0m",
      "\u001b[0;31mTypeError\u001b[0m                                 Traceback (most recent call last)",
      "\u001b[0;32m<ipython-input-97-9e0580a4c1c7>\u001b[0m in \u001b[0;36m<module>\u001b[0;34m\u001b[0m\n\u001b[1;32m      1\u001b[0m \u001b[0mdf\u001b[0m \u001b[0;34m=\u001b[0m \u001b[0mpd\u001b[0m\u001b[0;34m.\u001b[0m\u001b[0mread_csv\u001b[0m\u001b[0;34m(\u001b[0m\u001b[0;34m\"data/AmesHousing.tsv\"\u001b[0m\u001b[0;34m,\u001b[0m \u001b[0mdelimiter\u001b[0m\u001b[0;34m=\u001b[0m\u001b[0;34m\"\\t\"\u001b[0m\u001b[0;34m)\u001b[0m\u001b[0;34m\u001b[0m\u001b[0;34m\u001b[0m\u001b[0m\n\u001b[0;32m----> 2\u001b[0;31m \u001b[0mtransform_df\u001b[0m \u001b[0;34m=\u001b[0m \u001b[0mtransform_features\u001b[0m\u001b[0;34m(\u001b[0m\u001b[0mdf\u001b[0m\u001b[0;34m,\u001b[0m \u001b[0mdebug\u001b[0m\u001b[0;34m=\u001b[0m\u001b[0;32mFalse\u001b[0m\u001b[0;34m)\u001b[0m\u001b[0;34m\u001b[0m\u001b[0;34m\u001b[0m\u001b[0m\n\u001b[0m\u001b[1;32m      3\u001b[0m \u001b[0mtext_cols\u001b[0m \u001b[0;34m=\u001b[0m \u001b[0mtransform_df\u001b[0m\u001b[0;34m.\u001b[0m\u001b[0mselect_dtypes\u001b[0m\u001b[0;34m(\u001b[0m\u001b[0minclude\u001b[0m\u001b[0;34m=\u001b[0m\u001b[0;34m[\u001b[0m\u001b[0;34m'object'\u001b[0m\u001b[0;34m]\u001b[0m\u001b[0;34m)\u001b[0m\u001b[0;34m.\u001b[0m\u001b[0mcolumns\u001b[0m\u001b[0;34m\u001b[0m\u001b[0;34m\u001b[0m\u001b[0m\n\u001b[1;32m      4\u001b[0m \u001b[0;34m\u001b[0m\u001b[0m\n\u001b[1;32m      5\u001b[0m \u001b[0;32mfor\u001b[0m \u001b[0mcol\u001b[0m \u001b[0;32min\u001b[0m \u001b[0mtext_cols\u001b[0m\u001b[0;34m:\u001b[0m\u001b[0;34m\u001b[0m\u001b[0;34m\u001b[0m\u001b[0m\n",
      "\u001b[0;31mTypeError\u001b[0m: transform_features() got an unexpected keyword argument 'debug'"
     ]
    }
   ],
   "source": [
    "df = pd.read_csv(\"data/AmesHousing.tsv\", delimiter=\"\\t\")\n",
    "transform_df = transform_features(df, debug=False)\n",
    "text_cols = transform_df.select_dtypes(include=['object']).columns\n",
    "\n",
    "for col in text_cols:\n",
    "    print(col+\":\", len(transform_df[col].unique()))\n",
    "    \n",
    "for col in text_cols:\n",
    "    transform_df[col] = transform_df[col].astype('category')\n",
    "    \n",
    "transform_df['Utilities'].cat.codes.value_counts()"
   ]
  },
  {
   "cell_type": "markdown",
   "metadata": {},
   "source": [
    "#### Dummy Coding"
   ]
  },
  {
   "cell_type": "code",
   "execution_count": 110,
   "metadata": {},
   "outputs": [
    {
     "data": {
      "text/html": [
       "<div>\n",
       "<style scoped>\n",
       "    .dataframe tbody tr th:only-of-type {\n",
       "        vertical-align: middle;\n",
       "    }\n",
       "\n",
       "    .dataframe tbody tr th {\n",
       "        vertical-align: top;\n",
       "    }\n",
       "\n",
       "    .dataframe thead th {\n",
       "        text-align: right;\n",
       "    }\n",
       "</style>\n",
       "<table border=\"1\" class=\"dataframe\">\n",
       "  <thead>\n",
       "    <tr style=\"text-align: right;\">\n",
       "      <th></th>\n",
       "      <th>AllPub</th>\n",
       "      <th>NoSeWa</th>\n",
       "      <th>NoSewr</th>\n",
       "    </tr>\n",
       "  </thead>\n",
       "  <tbody>\n",
       "    <tr>\n",
       "      <th>0</th>\n",
       "      <td>1</td>\n",
       "      <td>0</td>\n",
       "      <td>0</td>\n",
       "    </tr>\n",
       "    <tr>\n",
       "      <th>1</th>\n",
       "      <td>1</td>\n",
       "      <td>0</td>\n",
       "      <td>0</td>\n",
       "    </tr>\n",
       "    <tr>\n",
       "      <th>2</th>\n",
       "      <td>1</td>\n",
       "      <td>0</td>\n",
       "      <td>0</td>\n",
       "    </tr>\n",
       "    <tr>\n",
       "      <th>3</th>\n",
       "      <td>1</td>\n",
       "      <td>0</td>\n",
       "      <td>0</td>\n",
       "    </tr>\n",
       "    <tr>\n",
       "      <th>4</th>\n",
       "      <td>1</td>\n",
       "      <td>0</td>\n",
       "      <td>0</td>\n",
       "    </tr>\n",
       "  </tbody>\n",
       "</table>\n",
       "</div>"
      ],
      "text/plain": [
       "   AllPub  NoSeWa  NoSewr\n",
       "0       1       0       0\n",
       "1       1       0       0\n",
       "2       1       0       0\n",
       "3       1       0       0\n",
       "4       1       0       0"
      ]
     },
     "execution_count": 110,
     "metadata": {},
     "output_type": "execute_result"
    }
   ],
   "source": [
    "pd.get_dummies(df['Utilities']).head()"
   ]
  },
  {
   "cell_type": "code",
   "execution_count": 111,
   "metadata": {},
   "outputs": [],
   "source": [
    "## Create a list of column names from documentation that are *meant* to be categorical\n",
    "nominal_features = [\"PID\", \"MS SubClass\", \"MS Zoning\", \"Street\", \"Alley\", \"Land Contour\", \"Lot Config\", \"Neighborhood\", \n",
    "                    \"Condition 1\", \"Condition 2\", \"Bldg Type\", \"House Style\", \"Roof Style\", \"Roof Matl\", \"Exterior 1st\", \n",
    "                    \"Exterior 2nd\", \"Mas Vnr Type\", \"Foundation\", \"Heating\", \"Central Air\", \"Garage Type\", \n",
    "                    \"Misc Feature\", \"Sale Type\", \"Sale Condition\"]"
   ]
  },
  {
   "cell_type": "code",
   "execution_count": 112,
   "metadata": {},
   "outputs": [],
   "source": [
    "## Which categorical columns have we still carried with us? We'll test tehse \n",
    "transform_cat_cols = []\n",
    "for col in nominal_features:\n",
    "    if col in transform_df.columns:\n",
    "        transform_cat_cols.append(col)"
   ]
  },
  {
   "cell_type": "code",
   "execution_count": 106,
   "metadata": {},
   "outputs": [],
   "source": [
    "dummy_cols = pd.DataFrame()\n",
    "for col in transform_cat_cols:\n",
    "    col_dummies=pd.get_dummies(transform_df[col])\n",
    "    transform_df=pd.concat([transform_df,col_dummies],axis=1)"
   ]
  },
  {
   "cell_type": "code",
   "execution_count": 107,
   "metadata": {},
   "outputs": [
    {
     "data": {
      "text/plain": [
       "(2930, 229)"
      ]
     },
     "execution_count": 107,
     "metadata": {},
     "output_type": "execute_result"
    }
   ],
   "source": [
    "transform_df.shape"
   ]
  },
  {
   "cell_type": "code",
   "execution_count": 108,
   "metadata": {},
   "outputs": [
    {
     "data": {
      "text/html": [
       "<div>\n",
       "<style scoped>\n",
       "    .dataframe tbody tr th:only-of-type {\n",
       "        vertical-align: middle;\n",
       "    }\n",
       "\n",
       "    .dataframe tbody tr th {\n",
       "        vertical-align: top;\n",
       "    }\n",
       "\n",
       "    .dataframe thead th {\n",
       "        text-align: right;\n",
       "    }\n",
       "</style>\n",
       "<table border=\"1\" class=\"dataframe\">\n",
       "  <thead>\n",
       "    <tr style=\"text-align: right;\">\n",
       "      <th></th>\n",
       "      <th>MS Zoning</th>\n",
       "      <th>Street</th>\n",
       "      <th>Alley</th>\n",
       "      <th>Lot Shape</th>\n",
       "      <th>Land Contour</th>\n",
       "      <th>Utilities</th>\n",
       "      <th>Lot Config</th>\n",
       "      <th>Land Slope</th>\n",
       "      <th>Neighborhood</th>\n",
       "      <th>Condition 1</th>\n",
       "      <th>...</th>\n",
       "      <th>New</th>\n",
       "      <th>Oth</th>\n",
       "      <th>VWD</th>\n",
       "      <th>WD</th>\n",
       "      <th>Abnorml</th>\n",
       "      <th>AdjLand</th>\n",
       "      <th>Alloca</th>\n",
       "      <th>Family</th>\n",
       "      <th>Normal</th>\n",
       "      <th>Partial</th>\n",
       "    </tr>\n",
       "  </thead>\n",
       "  <tbody>\n",
       "    <tr>\n",
       "      <th>0</th>\n",
       "      <td>RL</td>\n",
       "      <td>Pave</td>\n",
       "      <td>NaN</td>\n",
       "      <td>IR1</td>\n",
       "      <td>Lvl</td>\n",
       "      <td>AllPub</td>\n",
       "      <td>Corner</td>\n",
       "      <td>Gtl</td>\n",
       "      <td>NAmes</td>\n",
       "      <td>Norm</td>\n",
       "      <td>...</td>\n",
       "      <td>0</td>\n",
       "      <td>0</td>\n",
       "      <td>0</td>\n",
       "      <td>1</td>\n",
       "      <td>0</td>\n",
       "      <td>0</td>\n",
       "      <td>0</td>\n",
       "      <td>0</td>\n",
       "      <td>1</td>\n",
       "      <td>0</td>\n",
       "    </tr>\n",
       "    <tr>\n",
       "      <th>1</th>\n",
       "      <td>RH</td>\n",
       "      <td>Pave</td>\n",
       "      <td>NaN</td>\n",
       "      <td>Reg</td>\n",
       "      <td>Lvl</td>\n",
       "      <td>AllPub</td>\n",
       "      <td>Inside</td>\n",
       "      <td>Gtl</td>\n",
       "      <td>NAmes</td>\n",
       "      <td>Feedr</td>\n",
       "      <td>...</td>\n",
       "      <td>0</td>\n",
       "      <td>0</td>\n",
       "      <td>0</td>\n",
       "      <td>1</td>\n",
       "      <td>0</td>\n",
       "      <td>0</td>\n",
       "      <td>0</td>\n",
       "      <td>0</td>\n",
       "      <td>1</td>\n",
       "      <td>0</td>\n",
       "    </tr>\n",
       "    <tr>\n",
       "      <th>2</th>\n",
       "      <td>RL</td>\n",
       "      <td>Pave</td>\n",
       "      <td>NaN</td>\n",
       "      <td>IR1</td>\n",
       "      <td>Lvl</td>\n",
       "      <td>AllPub</td>\n",
       "      <td>Corner</td>\n",
       "      <td>Gtl</td>\n",
       "      <td>NAmes</td>\n",
       "      <td>Norm</td>\n",
       "      <td>...</td>\n",
       "      <td>0</td>\n",
       "      <td>0</td>\n",
       "      <td>0</td>\n",
       "      <td>1</td>\n",
       "      <td>0</td>\n",
       "      <td>0</td>\n",
       "      <td>0</td>\n",
       "      <td>0</td>\n",
       "      <td>1</td>\n",
       "      <td>0</td>\n",
       "    </tr>\n",
       "    <tr>\n",
       "      <th>3</th>\n",
       "      <td>RL</td>\n",
       "      <td>Pave</td>\n",
       "      <td>NaN</td>\n",
       "      <td>Reg</td>\n",
       "      <td>Lvl</td>\n",
       "      <td>AllPub</td>\n",
       "      <td>Corner</td>\n",
       "      <td>Gtl</td>\n",
       "      <td>NAmes</td>\n",
       "      <td>Norm</td>\n",
       "      <td>...</td>\n",
       "      <td>0</td>\n",
       "      <td>0</td>\n",
       "      <td>0</td>\n",
       "      <td>1</td>\n",
       "      <td>0</td>\n",
       "      <td>0</td>\n",
       "      <td>0</td>\n",
       "      <td>0</td>\n",
       "      <td>1</td>\n",
       "      <td>0</td>\n",
       "    </tr>\n",
       "    <tr>\n",
       "      <th>4</th>\n",
       "      <td>RL</td>\n",
       "      <td>Pave</td>\n",
       "      <td>NaN</td>\n",
       "      <td>IR1</td>\n",
       "      <td>Lvl</td>\n",
       "      <td>AllPub</td>\n",
       "      <td>Inside</td>\n",
       "      <td>Gtl</td>\n",
       "      <td>Gilbert</td>\n",
       "      <td>Norm</td>\n",
       "      <td>...</td>\n",
       "      <td>0</td>\n",
       "      <td>0</td>\n",
       "      <td>0</td>\n",
       "      <td>1</td>\n",
       "      <td>0</td>\n",
       "      <td>0</td>\n",
       "      <td>0</td>\n",
       "      <td>0</td>\n",
       "      <td>1</td>\n",
       "      <td>0</td>\n",
       "    </tr>\n",
       "  </tbody>\n",
       "</table>\n",
       "<p>5 rows × 229 columns</p>\n",
       "</div>"
      ],
      "text/plain": [
       "  MS Zoning Street Alley Lot Shape Land Contour Utilities Lot Config  \\\n",
       "0        RL   Pave   NaN       IR1          Lvl    AllPub     Corner   \n",
       "1        RH   Pave   NaN       Reg          Lvl    AllPub     Inside   \n",
       "2        RL   Pave   NaN       IR1          Lvl    AllPub     Corner   \n",
       "3        RL   Pave   NaN       Reg          Lvl    AllPub     Corner   \n",
       "4        RL   Pave   NaN       IR1          Lvl    AllPub     Inside   \n",
       "\n",
       "  Land Slope Neighborhood Condition 1  ... New Oth VWD  WD   Abnorml  AdjLand  \\\n",
       "0        Gtl        NAmes        Norm  ...   0   0   0    1        0        0   \n",
       "1        Gtl        NAmes       Feedr  ...   0   0   0    1        0        0   \n",
       "2        Gtl        NAmes        Norm  ...   0   0   0    1        0        0   \n",
       "3        Gtl        NAmes        Norm  ...   0   0   0    1        0        0   \n",
       "4        Gtl      Gilbert        Norm  ...   0   0   0    1        0        0   \n",
       "\n",
       "  Alloca Family Normal Partial  \n",
       "0      0      0      1       0  \n",
       "1      0      0      1       0  \n",
       "2      0      0      1       0  \n",
       "3      0      0      1       0  \n",
       "4      0      0      1       0  \n",
       "\n",
       "[5 rows x 229 columns]"
      ]
     },
     "execution_count": 108,
     "metadata": {},
     "output_type": "execute_result"
    }
   ],
   "source": [
    "transform_df.head()"
   ]
  },
  {
   "cell_type": "code",
   "execution_count": 109,
   "metadata": {},
   "outputs": [
    {
     "data": {
      "text/plain": [
       "uint8      171\n",
       "object      43\n",
       "int64        9\n",
       "float64      6\n",
       "dtype: int64"
      ]
     },
     "execution_count": 109,
     "metadata": {},
     "output_type": "execute_result"
    }
   ],
   "source": [
    "transform_df.dtypes.value_counts()"
   ]
  },
  {
   "cell_type": "code",
   "execution_count": null,
   "metadata": {},
   "outputs": [],
   "source": [
    "## Create a list of column names from documentation that are *meant* to be categorical\n",
    "nominal_features = [\"PID\", \"MS SubClass\", \"MS Zoning\", \"Street\", \"Alley\", \"Land Contour\", \"Lot Config\", \"Neighborhood\", \n",
    "                    \"Condition 1\", \"Condition 2\", \"Bldg Type\", \"House Style\", \"Roof Style\", \"Roof Matl\", \"Exterior 1st\", \n",
    "                    \"Exterior 2nd\", \"Mas Vnr Type\", \"Foundation\", \"Heating\", \"Central Air\", \"Garage Type\", \n",
    "                    \"Misc Feature\", \"Sale Type\", \"Sale Condition\"]"
   ]
  },
  {
   "cell_type": "code",
   "execution_count": null,
   "metadata": {},
   "outputs": [],
   "source": [
    "df = pd.read_csv(\"data/AmesHousing.tsv\", delimiter=\"\\t\")\n",
    "transform_df = transform_features(df, debug=False)"
   ]
  },
  {
   "cell_type": "code",
   "execution_count": 113,
   "metadata": {},
   "outputs": [],
   "source": [
    "## Which categorical columns have we still carried with us? We'll test tehse \n",
    "transform_cat_cols = []\n",
    "for col in nominal_features:\n",
    "    if col in transform_df.columns:\n",
    "        transform_cat_cols.append(col)\n",
    "\n",
    "## How many unique values in each categorical column?\n",
    "uniqueness_counts = transform_df[transform_cat_cols].apply(lambda col: len(col.value_counts())).sort_values()\n",
    "\n",
    "## Aribtrary cutoff of 10 unique values (worth experimenting)\n",
    "drop_nonuniq_cols = uniqueness_counts[uniqueness_counts>10].index\n",
    "transform_df = transform_df.drop(drop_nonuniq_cols, axis=1)"
   ]
  },
  {
   "cell_type": "code",
   "execution_count": 114,
   "metadata": {},
   "outputs": [
    {
     "data": {
      "text/plain": [
       "Index(['Exterior 1st', 'Exterior 2nd', 'Neighborhood'], dtype='object')"
      ]
     },
     "execution_count": 114,
     "metadata": {},
     "output_type": "execute_result"
    }
   ],
   "source": [
    "drop_nonuniq_cols"
   ]
  },
  {
   "cell_type": "code",
   "execution_count": null,
   "metadata": {},
   "outputs": [],
   "source": [
    "## Select just the remaining text columns and convert to categorical\n",
    "text_cols = transform_df.select_dtypes(include=['object'])\n",
    "for col in text_cols:\n",
    "    transform_df[col] = \n",
    "    \n",
    "## Create dummy columns and add back to the dataframe!\n",
    "transform_df = pd.concat([\n",
    "    transform_df, \n",
    "    pd.get_dummies(transform_df.select_dtypes(include=['category']))\n",
    "], axis=1).drop(text_cols,axis=1)"
   ]
  },
  {
   "cell_type": "code",
   "execution_count": null,
   "metadata": {},
   "outputs": [],
   "source": [
    "transform_df.dtypes.value_counts()"
   ]
  },
  {
   "cell_type": "markdown",
   "metadata": {},
   "source": [
    "Update select_features()"
   ]
  },
  {
   "cell_type": "code",
   "execution_count": null,
   "metadata": {},
   "outputs": [],
   "source": [
    "def select_features(df_, coeff_threshold=0.4, uniq_threshold=10, debug=False):\n",
    "    df = df_.copy()\n",
    "    df_org_shape = df.shape\n",
    "    numerical_df = df.select_dtypes(include=['int', 'float'])\n",
    "    abs_corr_coeffs = numerical_df.corr()['SalePrice'].abs().sort_values()\n",
    "    df = df.drop(abs_corr_coeffs[abs_corr_coeffs < coeff_threshold].index, axis=1)\n",
    "    if debug: print(f'We dropped {df_org_shape[1] - df.shape[1]} columns.')\n",
    "    \n",
    "    nominal_features = [\"PID\", \"MS SubClass\", \"MS Zoning\", \"Street\", \"Alley\", \"Land Contour\", \"Lot Config\", \"Neighborhood\", \n",
    "                    \"Condition 1\", \"Condition 2\", \"Bldg Type\", \"House Style\", \"Roof Style\", \"Roof Matl\", \"Exterior 1st\", \n",
    "                    \"Exterior 2nd\", \"Mas Vnr Type\", \"Foundation\", \"Heating\", \"Central Air\", \"Garage Type\", \n",
    "                    \"Misc Feature\", \"Sale Type\", \"Sale Condition\"]\n",
    "    \n",
    "    transform_cat_cols = []\n",
    "    for col in nominal_features:\n",
    "        if col in df.columns:\n",
    "            transform_cat_cols.append(col)\n",
    "\n",
    "    uniqueness_counts = \n",
    "    drop_nonuniq_cols = \n",
    "    df = \n",
    "    \n",
    "    text_cols = df.select_dtypes(include=['object'])\n",
    "\n",
    "    \n",
    "    return df"
   ]
  },
  {
   "cell_type": "code",
   "execution_count": null,
   "metadata": {},
   "outputs": [],
   "source": [
    "df = pd.read_csv(\"data/AmesHousing.tsv\", delimiter=\"\\t\")\n",
    "transform_df = transform_features(df)\n",
    "filtered_df = select_features(transform_df, coeff_threshold=0.4, uniq_threshold=10,debug=False)\n",
    "rmse = train_and_test(filtered_df)\n",
    "\n",
    "rmse"
   ]
  },
  {
   "cell_type": "markdown",
   "metadata": {},
   "source": [
    "### Train And Test"
   ]
  },
  {
   "cell_type": "code",
   "execution_count": 1,
   "metadata": {},
   "outputs": [],
   "source": [
    "def train_and_test(df, k=0, debug=False):  \n",
    "    train = df[:1460]\n",
    "    test = df[1460:]\n",
    "    \n",
    "    ## You can use `pd.DataFrame.select_dtypes()` to specify column types\n",
    "    ## and return only those columns as a data frame.\n",
    "    numeric_train = train.select_dtypes(include=['integer', 'float'])\n",
    "    numeric_test = test.select_dtypes(include=['integer', 'float'])\n",
    "    \n",
    "    ## You can use `pd.Series.drop()` to drop a value.\n",
    "    features = numeric_train.columns.drop(\"SalePrice\")\n",
    "    if debug: print(f'Selected features: {features.tolist()}')\n",
    "    lr = linear_model.LinearRegression()\n",
    "    lr.fit(train[features], train[\"SalePrice\"])\n",
    "    predictions = lr.predict(test[features])\n",
    "    mse = mean_squared_error(test[\"SalePrice\"], predictions)\n",
    "    rmse = np.sqrt(mse)\n",
    "    \n",
    "    return rmse"
   ]
  },
  {
   "cell_type": "markdown",
   "metadata": {},
   "source": [
    "- When k equals 0, perform holdout validation (what we already implemented):\n",
    "    - Select the first 1460 rows and assign to train.\n",
    "    - Select the remaining rows and assign to test.\n",
    "    - Train on train and test on test.\n",
    "    - Compute the RMSE and return."
   ]
  },
  {
   "cell_type": "code",
   "execution_count": 2,
   "metadata": {},
   "outputs": [],
   "source": [
    "def train_and_test(df, k=0, debug=False):\n",
    "    numeric_df = df.select_dtypes(include=['integer', 'float'])\n",
    "    features = numeric_df.columns.drop(\"SalePrice\")\n",
    "    if debug: print(f'Selected features: {features.tolist()}')\n",
    "    lr = linear_model.LinearRegression()\n",
    "    \n",
    "    "
   ]
  },
  {
   "cell_type": "markdown",
   "metadata": {},
   "source": [
    "- When k equals 1, perform simple cross validation:\n",
    "    - Shuffle the ordering of the rows in the data frame.\n",
    "    - Select the first 1460 rows and assign to fold_one.\n",
    "    - Select the remaining rows and assign to fold_two.\n",
    "    - Train on fold_one and test on fold_two.\n",
    "    - Train on fold_two and test on fold_one.\n",
    "    - Compute the average RMSE and return."
   ]
  },
  {
   "cell_type": "code",
   "execution_count": null,
   "metadata": {},
   "outputs": [],
   "source": [
    "def train_and_test(df, k=0, debug=False):\n",
    "    numeric_df = df.select_dtypes(include=['integer', 'float'])\n",
    "    features = numeric_df.columns.drop(\"SalePrice\")\n",
    "    if debug: print(f'Selected features: {features.tolist()}')\n",
    "    lr = linear_model.LinearRegression()\n",
    "    \n",
    "    if k == 0:\n",
    "        train = df[:1460]\n",
    "        test = df[1460:]\n",
    "\n",
    "        lr.fit(train[features], train[\"SalePrice\"])\n",
    "        predictions = lr.predict(test[features])\n",
    "        mse = mean_squared_error(test[\"SalePrice\"], predictions)\n",
    "        rmse = np.sqrt(mse)\n",
    "\n",
    "        return rmse\n",
    "    \n",
    "    if k == 1:\n",
    "   \n",
    "\n",
    "\n",
    "\n",
    "\n",
    "\n",
    "\n",
    "        print(rmse_one)\n",
    "        print(rmse_two)\n",
    "        return avg_rmse"
   ]
  },
  {
   "cell_type": "markdown",
   "metadata": {},
   "source": [
    "- When k is greater than 1, implement k-fold cross validation using k folds:\n",
    "    - Perform k-fold cross validation using k folds.\n",
    "    - Calculate the average RMSE value and return this value."
   ]
  },
  {
   "cell_type": "code",
   "execution_count": 3,
   "metadata": {},
   "outputs": [],
   "source": [
    "def train_and_test(df, k=0, debug=False):\n",
    "    numeric_df = df.select_dtypes(include=['integer', 'float'])\n",
    "    features = numeric_df.columns.drop(\"SalePrice\")\n",
    "    if debug: print(f'Selected features: {features.tolist()}')\n",
    "    lr = linear_model.LinearRegression()\n",
    "    \n",
    "    if k == 0:\n",
    "        train = df[:1460]\n",
    "        test = df[1460:]\n",
    "\n",
    "        lr.fit(train[features], train[\"SalePrice\"])\n",
    "        predictions = lr.predict(test[features])\n",
    "        mse = mean_squared_error(test[\"SalePrice\"], predictions)\n",
    "        rmse = np.sqrt(mse)\n",
    "\n",
    "        return rmse\n",
    "    \n",
    "    if k == 1:\n",
    "        # Randomize *all* rows (frac=1) from `df` and return\n",
    "        shuffled_df = df.sample(frac=1, )\n",
    "        train = df[:1460]\n",
    "        test = df[1460:]\n",
    "        \n",
    "        lr.fit(train[features], train[\"SalePrice\"])\n",
    "        predictions_one = lr.predict(test[features])        \n",
    "        \n",
    "        mse_one = mean_squared_error(test[\"SalePrice\"], predictions_one)\n",
    "        rmse_one = np.sqrt(mse_one)\n",
    "        \n",
    "        lr.fit(test[features], test[\"SalePrice\"])\n",
    "        predictions_two = lr.predict(train[features])        \n",
    "       \n",
    "        mse_two = mean_squared_error(train[\"SalePrice\"], predictions_two)\n",
    "        rmse_two = np.sqrt(mse_two)\n",
    "        \n",
    "        avg_rmse = np.mean([rmse_one, rmse_two])\n",
    "        if debug: print(rmse_one)\n",
    "        if debug: print(rmse_two)\n",
    "        return avg_rmse\n",
    "    \n",
    "    else:\n",
    "       \n",
    "    \n",
    "    \n",
    "    \n",
    "    \n",
    "    \n",
    "    \n",
    "        return avg_rmse"
   ]
  },
  {
   "cell_type": "markdown",
   "metadata": {},
   "source": [
    "### Using the model"
   ]
  },
  {
   "cell_type": "code",
   "execution_count": null,
   "metadata": {},
   "outputs": [],
   "source": [
    "df = pd.read_csv(\"data/AmesHousing.tsv\", delimiter=\"\\t\")\n",
    "transform_df = transform_features(df)\n",
    "filtered_df = select_features(transform_df)\n",
    "rmse = train_and_test(filtered_df, k=4)\n",
    "\n",
    "rmse"
   ]
  },
  {
   "cell_type": "markdown",
   "metadata": {},
   "source": [
    "#### Testing different thresholds"
   ]
  },
  {
   "cell_type": "code",
   "execution_count": null,
   "metadata": {},
   "outputs": [],
   "source": [
    "# coeff_threshold\n",
    "coeff_threshold_params = [0.1, 0.2, 0.3, 0.4, 0.45, 0.5, 0.55, 0.6, 0.7]\n",
    "rmse_values = list()\n",
    "\n",
    "df = pd.read_csv(\"data/AmesHousing.tsv\", delimiter=\"\\t\")\n",
    "transform_df = transform_features(df)\n",
    "\n"
   ]
  },
  {
   "cell_type": "code",
   "execution_count": null,
   "metadata": {},
   "outputs": [],
   "source": [
    "rmse_values"
   ]
  },
  {
   "cell_type": "code",
   "execution_count": null,
   "metadata": {},
   "outputs": [],
   "source": [
    "plt.scatter(x=coeff_threshold_params, y=rmse_values)\n",
    "plt.show()"
   ]
  },
  {
   "cell_type": "code",
   "execution_count": null,
   "metadata": {},
   "outputs": [],
   "source": [
    "# uniq_threshold\n",
    "uniq_threshold_params = [2,3,4,5,6,7,8,9,10,11,12,13,14,15]\n",
    "rmse_values = list()\n",
    "\n",
    "df = pd.read_csv(\"data/AmesHousing.tsv\", delimiter=\"\\t\")\n",
    "transform_df = transform_features(df)\n",
    "\n"
   ]
  },
  {
   "cell_type": "code",
   "execution_count": null,
   "metadata": {},
   "outputs": [],
   "source": [
    "rmse_values"
   ]
  },
  {
   "cell_type": "code",
   "execution_count": null,
   "metadata": {},
   "outputs": [],
   "source": [
    "plt.scatter(x=uniq_threshold_params, y=rmse_values)\n",
    "plt.show()"
   ]
  },
  {
   "cell_type": "code",
   "execution_count": null,
   "metadata": {},
   "outputs": [],
   "source": [
    "# optimiziran model\n",
    "df = pd.read_csv(\"data/AmesHousing.tsv\", delimiter=\"\\t\")\n",
    "transform_df = transform_features(df)\n",
    "filtered_df = select_features(transform_df, coeff_threshold=0.1, uniq_threshold=5,debug=False)\n",
    "rmse = train_and_test(filtered_df, k=4)\n",
    "rmse\n",
    "\n"
   ]
  }
 ],
 "metadata": {
  "kernelspec": {
   "display_name": "Python 3",
   "language": "python",
   "name": "python3"
  },
  "language_info": {
   "codemirror_mode": {
    "name": "ipython",
    "version": 3
   },
   "file_extension": ".py",
   "mimetype": "text/x-python",
   "name": "python",
   "nbconvert_exporter": "python",
   "pygments_lexer": "ipython3",
   "version": "3.7.3"
  }
 },
 "nbformat": 4,
 "nbformat_minor": 2
}
